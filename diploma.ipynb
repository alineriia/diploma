{
  "nbformat": 4,
  "nbformat_minor": 0,
  "metadata": {
    "colab": {
      "provenance": [],
      "gpuType": "T4"
    },
    "kernelspec": {
      "name": "python3",
      "display_name": "Python 3"
    },
    "language_info": {
      "name": "python"
    },
    "accelerator": "GPU"
  },
  "cells": [
    {
      "cell_type": "code",
      "source": [
        "from google.colab import drive\n",
        "drive.mount('/content/drive')\n"
      ],
      "metadata": {
        "id": "_v3Hp0j3IUQ7",
        "colab": {
          "base_uri": "https://localhost:8080/"
        },
        "outputId": "1c139cab-b85a-4e05-f5d8-53ca637e9a39"
      },
      "execution_count": null,
      "outputs": [
        {
          "output_type": "stream",
          "name": "stdout",
          "text": [
            "Mounted at /content/drive\n"
          ]
        }
      ]
    },
    {
      "cell_type": "code",
      "source": [
        "!pip install pytorchfi"
      ],
      "metadata": {
        "colab": {
          "base_uri": "https://localhost:8080/"
        },
        "id": "ywYuH8BjI3B8",
        "outputId": "be6e7f21-78e8-4ed9-ad76-ef1f3583a5a2"
      },
      "execution_count": null,
      "outputs": [
        {
          "output_type": "stream",
          "name": "stdout",
          "text": [
            "Collecting pytorchfi\n",
            "  Downloading pytorchfi-0.6.0-py3-none-any.whl (21 kB)\n",
            "Installing collected packages: pytorchfi\n",
            "Successfully installed pytorchfi-0.6.0\n"
          ]
        }
      ]
    },
    {
      "cell_type": "code",
      "source": [
        "import pytorchfi\n",
        "import torch\n",
        "import torchvision.models as models\n",
        "import pytorchfi.core as pfi_core\n"
      ],
      "metadata": {
        "id": "F2uSIIICI59U"
      },
      "execution_count": null,
      "outputs": []
    },
    {
      "cell_type": "markdown",
      "source": [
        "### Helper functions"
      ],
      "metadata": {
        "id": "aGCyWNx5yWW2"
      }
    },
    {
      "cell_type": "code",
      "source": [
        "def calculate_accuracy(model, data_loader):\n",
        "    correct = 0\n",
        "    total = 0\n",
        "    model.to(device)\n",
        "    model.eval()\n",
        "\n",
        "    with torch.no_grad():\n",
        "        for inputs, labels in data_loader:\n",
        "            inputs, labels = inputs.to(device), labels.to(device)\n",
        "            outputs = model(inputs)\n",
        "            _, predicted = torch.max(outputs, 1)\n",
        "            correct += (predicted == labels).sum().item()\n",
        "            total += labels.size(0)\n",
        "\n",
        "    return correct / total\n"
      ],
      "metadata": {
        "id": "fheYllPQI7Dg"
      },
      "execution_count": null,
      "outputs": []
    },
    {
      "cell_type": "code",
      "source": [
        "from pytorchfi.weight_error_models import (\n",
        "    random_weight_inj,\n",
        "    random_weight_location,\n",
        "    zero_func_rand_weight\n",
        ")"
      ],
      "metadata": {
        "id": "iz-iJaaoKYtd"
      },
      "execution_count": null,
      "outputs": []
    },
    {
      "cell_type": "code",
      "source": [
        "from google.colab import drive\n",
        "drive.mount('/content/drive')"
      ],
      "metadata": {
        "colab": {
          "base_uri": "https://localhost:8080/"
        },
        "id": "mSWxTwZ3eAb5",
        "outputId": "d45eb4c6-0351-40b4-cbae-af341dfa0240"
      },
      "execution_count": null,
      "outputs": [
        {
          "output_type": "stream",
          "name": "stdout",
          "text": [
            "Drive already mounted at /content/drive; to attempt to forcibly remount, call drive.mount(\"/content/drive\", force_remount=True).\n"
          ]
        }
      ]
    },
    {
      "cell_type": "code",
      "source": [
        "import pytorchfi\n",
        "import pytorchfi.core as pfi_core\n",
        "\n",
        "from pytorchfi.weight_error_models import (\n",
        "    random_weight_inj,\n",
        "    random_weight_location,\n",
        "    zero_func_rand_weight\n",
        ")\n",
        "\n",
        "from pytorchfi.neuron_error_models import (\n",
        "    random_inj_per_layer,\n",
        "    random_inj_per_layer_batched,\n",
        "    random_neuron_inj,\n",
        "    random_neuron_inj_batched,\n",
        "    random_neuron_single_bit_inj,\n",
        "    random_neuron_single_bit_inj_batched,\n",
        "    single_bit_flip_func,\n",
        ")\n"
      ],
      "metadata": {
        "id": "jdiDCY89fdyQ"
      },
      "execution_count": null,
      "outputs": []
    },
    {
      "cell_type": "code",
      "source": [
        "def get_predictions(model, test_loader, device):\n",
        "    model.to(device)\n",
        "    model.eval()\n",
        "    predictions = []\n",
        "\n",
        "    with torch.no_grad():\n",
        "        for inputs, _ in test_loader:\n",
        "            inputs = inputs.to(device)\n",
        "            outputs = model(inputs)\n",
        "            _, predicted = torch.max(outputs, 1)\n",
        "            predictions.extend(predicted.cpu().numpy())\n",
        "\n",
        "    return predictions\n",
        "\n",
        "# Припускаючи, що test_loader і device вже визначені\n",
        "device = torch.device(\"cuda:0\" if torch.cuda.is_available() else \"cpu\")\n"
      ],
      "metadata": {
        "id": "hRnC22eTf2oC"
      },
      "execution_count": null,
      "outputs": []
    },
    {
      "cell_type": "code",
      "source": [
        "import numpy as np\n",
        "from scipy.stats import mode\n",
        "\n",
        "\n",
        "def vote(predictions):\n",
        "    # Перетворення списку прогнозів в numpy масив\n",
        "    # Припускаємо, що predictions - це список списків прогнозів для кожного входу\n",
        "    predictions_array = np.array(predictions)\n",
        "\n",
        "    # Голосування за більшістю\n",
        "    # mode() з scipy.stats знайде найбільш частий елемент у кожному стовпці\n",
        "    voted_predictions = mode(predictions_array, axis=0)[0]\n",
        "\n",
        "    # Вибірка першого рядка, оскільки mode повертає результат у форматі (результат, кількість)\n",
        "    return voted_predictions[0]\n",
        "\n",
        "# Приклад використання\n",
        "# predictions = [[0, 1, 1, 0], [1, 1, 1, 0], [0, 1, 0, 0]]\n",
        "# final_predictions = vote(predictions)\n"
      ],
      "metadata": {
        "id": "hmmiChmogTp5"
      },
      "execution_count": null,
      "outputs": []
    },
    {
      "cell_type": "code",
      "source": [
        "import torch\n",
        "\n",
        "def evaluate_ensemble_accuracy(ensemble_models, test_loader, device):\n",
        "    for model in ensemble_models:\n",
        "        model.eval()\n",
        "        model.to(device)\n",
        "\n",
        "    correct = 0\n",
        "    total = 0\n",
        "\n",
        "    with torch.no_grad():\n",
        "        for inputs, labels in test_loader:\n",
        "            inputs, labels = inputs.to(device), labels.to(device)\n",
        "\n",
        "            # Агрегація передбачень від усіх моделей\n",
        "            ensemble_outputs = None\n",
        "            for model in ensemble_models:\n",
        "                outputs = model(inputs)\n",
        "                if ensemble_outputs is None:\n",
        "                    ensemble_outputs = outputs\n",
        "                else:\n",
        "                    ensemble_outputs += outputs\n",
        "\n",
        "            # Вибір класу з найвищим загальним передбаченням\n",
        "            _, predicted = torch.max(ensemble_outputs, 1)\n",
        "            total += labels.size(0)\n",
        "            correct += (predicted == labels).sum().item()\n",
        "\n",
        "    accuracy = 100 * correct / total\n",
        "    return accuracy\n",
        "\n"
      ],
      "metadata": {
        "id": "8r8Vwa9OhOyF"
      },
      "execution_count": null,
      "outputs": []
    },
    {
      "cell_type": "markdown",
      "source": [
        "# resnet18"
      ],
      "metadata": {
        "id": "pmq0SvTD6jCI"
      }
    },
    {
      "cell_type": "code",
      "source": [
        "import torch\n",
        "import torchvision\n",
        "import torchvision.transforms as transforms\n",
        "import torchvision.models as models\n",
        "import torch.nn as nn\n",
        "import torch.optim as optim\n",
        "import torch.nn.functional as F\n",
        "\n",
        "# Передобробка та завантаження даних CIFAR10\n",
        "transform = transforms.Compose([\n",
        "    transforms.RandomHorizontalFlip(),  # Випадкове горизонтальне перевертання для аугментації\n",
        "    transforms.ToTensor(),\n",
        "    transforms.Normalize((0.5, 0.5, 0.5), (0.5, 0.5, 0.5))\n",
        "])\n",
        "\n",
        "train_set = torchvision.datasets.CIFAR10(root='./data', train=True, download=True, transform=transform)\n",
        "train_loader = torch.utils.data.DataLoader(train_set, batch_size=128, shuffle=True, num_workers=2)\n",
        "\n",
        "test_set = torchvision.datasets.CIFAR10(root='./data', train=False, download=True, transform=transform)\n",
        "test_loader = torch.utils.data.DataLoader(test_set, batch_size=128, shuffle=False, num_workers=2)\n",
        "\n",
        "# Визначення моделі ResNet18\n",
        "resnet18_1 = models.resnet18(pretrained=True)\n",
        "resnet18_2 = models.resnet18(pretrained=True)\n",
        "resnet18_3 = models.resnet18(pretrained=True)\n",
        "num_ftrs1 = resnet18_1.fc.in_features\n",
        "num_ftrs2 = resnet18_2.fc.in_features\n",
        "num_ftrs3 = resnet18_3.fc.in_features\n",
        "resnet18_1.fc = nn.Linear(num_ftrs1, 10)  # CIFAR10 має 10 класів\n",
        "resnet18_2.fc = nn.Linear(num_ftrs2, 10)  # CIFAR10 має 10 класів\n",
        "resnet18_3.fc = nn.Linear(num_ftrs3, 10)  # CIFAR10 має 10 класів\n",
        "device = torch.device(\"cuda:0\" if torch.cuda.is_available() else \"cpu\")\n",
        "resnet18_1.to(device)\n",
        "resnet18_2.to(device)\n",
        "resnet18_3.to(device)\n",
        "# Визначення оптимізатора та функції втрат\n",
        "optimizer1 = optim.Adam(resnet18_1.parameters(), lr=0.001)\n",
        "optimizer2 = optim.Adam(resnet18_2.parameters(), lr=0.001)\n",
        "optimizer3 = optim.Adam(resnet18_3.parameters(), lr=0.001)\n",
        "criterion = nn.CrossEntropyLoss()\n",
        "\n",
        "def train_model(model, criterion, optimizer, num_epochs=10):\n",
        "    model.train()\n",
        "    for epoch in range(num_epochs):\n",
        "        running_loss = 0.0\n",
        "        correct_predictions = 0\n",
        "        total_predictions = 0\n",
        "\n",
        "        for i, (inputs, labels) in enumerate(train_loader, 0):\n",
        "            inputs, labels = inputs.to(device), labels.to(device)\n",
        "\n",
        "            optimizer.zero_grad()\n",
        "\n",
        "            outputs = model(inputs)\n",
        "            loss = criterion(outputs, labels)\n",
        "            loss.backward()\n",
        "            optimizer.step()\n",
        "\n",
        "            running_loss += loss.item()\n",
        "\n",
        "            _, predicted = torch.max(outputs.data, 1)\n",
        "            total_predictions += labels.size(0)\n",
        "            correct_predictions += (predicted == labels).sum().item()\n",
        "\n",
        "        epoch_loss = running_loss / len(train_loader)\n",
        "        epoch_acc = (correct_predictions / total_predictions) * 100\n",
        "\n",
        "        print(f'Epoch {epoch + 1}/{num_epochs}, Accuracy: {epoch_acc:.2f}%')\n",
        "\n",
        "    print('Finished Training')\n",
        "\n",
        "# Тренування моделі\n",
        "train_model(resnet18_1, criterion, optimizer1, num_epochs=10)\n",
        "train_model(resnet18_2, criterion, optimizer2, num_epochs=10)\n",
        "train_model(resnet18_3, criterion, optimizer3, num_epochs=10)\n"
      ],
      "metadata": {
        "colab": {
          "base_uri": "https://localhost:8080/"
        },
        "id": "Vqgy9BqDil_r",
        "outputId": "8cc17243-5ae1-40c6-ddbc-4e02266695f4"
      },
      "execution_count": null,
      "outputs": [
        {
          "output_type": "stream",
          "name": "stdout",
          "text": [
            "Downloading https://www.cs.toronto.edu/~kriz/cifar-10-python.tar.gz to ./data/cifar-10-python.tar.gz\n"
          ]
        },
        {
          "output_type": "stream",
          "name": "stderr",
          "text": [
            "100%|██████████| 170498071/170498071 [00:13<00:00, 12491134.82it/s]\n"
          ]
        },
        {
          "output_type": "stream",
          "name": "stdout",
          "text": [
            "Extracting ./data/cifar-10-python.tar.gz to ./data\n",
            "Files already downloaded and verified\n"
          ]
        },
        {
          "output_type": "stream",
          "name": "stderr",
          "text": [
            "/usr/local/lib/python3.10/dist-packages/torchvision/models/_utils.py:208: UserWarning: The parameter 'pretrained' is deprecated since 0.13 and may be removed in the future, please use 'weights' instead.\n",
            "  warnings.warn(\n",
            "/usr/local/lib/python3.10/dist-packages/torchvision/models/_utils.py:223: UserWarning: Arguments other than a weight enum or `None` for 'weights' are deprecated since 0.13 and may be removed in the future. The current behavior is equivalent to passing `weights=ResNet18_Weights.IMAGENET1K_V1`. You can also use `weights=ResNet18_Weights.DEFAULT` to get the most up-to-date weights.\n",
            "  warnings.warn(msg)\n",
            "Downloading: \"https://download.pytorch.org/models/resnet18-f37072fd.pth\" to /root/.cache/torch/hub/checkpoints/resnet18-f37072fd.pth\n",
            "100%|██████████| 44.7M/44.7M [00:00<00:00, 145MB/s]\n"
          ]
        },
        {
          "output_type": "stream",
          "name": "stdout",
          "text": [
            "Epoch 1/10, Accuracy: 69.82%\n",
            "Epoch 2/10, Accuracy: 79.17%\n",
            "Epoch 3/10, Accuracy: 82.14%\n",
            "Epoch 4/10, Accuracy: 84.85%\n",
            "Epoch 5/10, Accuracy: 86.55%\n",
            "Epoch 6/10, Accuracy: 88.39%\n",
            "Epoch 7/10, Accuracy: 89.58%\n",
            "Epoch 8/10, Accuracy: 90.86%\n",
            "Epoch 9/10, Accuracy: 91.04%\n",
            "Epoch 10/10, Accuracy: 92.15%\n",
            "Finished Training\n",
            "Epoch 1/10, Accuracy: 69.73%\n",
            "Epoch 2/10, Accuracy: 79.17%\n",
            "Epoch 3/10, Accuracy: 82.84%\n",
            "Epoch 4/10, Accuracy: 84.89%\n",
            "Epoch 5/10, Accuracy: 86.91%\n",
            "Epoch 6/10, Accuracy: 88.41%\n",
            "Epoch 7/10, Accuracy: 89.59%\n",
            "Epoch 8/10, Accuracy: 90.52%\n",
            "Epoch 9/10, Accuracy: 91.91%\n",
            "Epoch 10/10, Accuracy: 92.55%\n",
            "Finished Training\n",
            "Epoch 1/10, Accuracy: 69.82%\n",
            "Epoch 2/10, Accuracy: 79.24%\n",
            "Epoch 3/10, Accuracy: 82.78%\n",
            "Epoch 4/10, Accuracy: 84.88%\n",
            "Epoch 5/10, Accuracy: 86.55%\n",
            "Epoch 6/10, Accuracy: 88.47%\n",
            "Epoch 7/10, Accuracy: 89.62%\n",
            "Epoch 8/10, Accuracy: 90.86%\n",
            "Epoch 9/10, Accuracy: 91.66%\n",
            "Epoch 10/10, Accuracy: 92.42%\n",
            "Finished Training\n"
          ]
        }
      ]
    },
    {
      "cell_type": "code",
      "source": [
        "def evaluate_accuracy(model, test_loader, device):\n",
        "    model.eval()  # Переведення моделі в режим оцінки\n",
        "    correct = 0\n",
        "    total = 0\n",
        "\n",
        "    with torch.no_grad():\n",
        "        for inputs, labels in test_loader:\n",
        "            inputs, labels = inputs.to(device), labels.to(device)\n",
        "            outputs = model(inputs)\n",
        "            _, predicted = torch.max(outputs.data, 1)\n",
        "            total += labels.size(0)\n",
        "            correct += (predicted == labels).sum().item()\n",
        "\n",
        "    accuracy = 100 * correct / total\n",
        "    return accuracy\n",
        "\n",
        "# Оцінка точності\n",
        "accuracy = evaluate_accuracy(resnet18_1, test_loader, device)\n",
        "print(f'Test Accuracy: {accuracy}%')\n"
      ],
      "metadata": {
        "colab": {
          "base_uri": "https://localhost:8080/"
        },
        "id": "3OXSLZ0DjZ70",
        "outputId": "ba7f970c-b9c8-4cf4-9994-2edf51ec3d73"
      },
      "execution_count": null,
      "outputs": [
        {
          "output_type": "stream",
          "name": "stdout",
          "text": [
            "Test Accuracy: 82.88%\n"
          ]
        }
      ]
    },
    {
      "cell_type": "code",
      "source": [
        "\n",
        "accuracy = calculate_accuracy(resnet18_1, test_loader)\n",
        "print(f'Test Accuracy: {accuracy}%')\n"
      ],
      "metadata": {
        "colab": {
          "base_uri": "https://localhost:8080/"
        },
        "id": "gQr5gISJf5wm",
        "outputId": "25000cd8-c275-455c-d1f6-d7a5802c8e40"
      },
      "execution_count": null,
      "outputs": [
        {
          "output_type": "stream",
          "name": "stdout",
          "text": [
            "Test Accuracy: 0.8306%\n"
          ]
        }
      ]
    },
    {
      "cell_type": "code",
      "source": [
        "ensemble_resnet18 = [resnet18_1,resnet18_2,resnet18_3]\n",
        "\n",
        "accuracy_resnet18 = evaluate_ensemble_accuracy(ensemble_resnet18, test_loader, device)\n",
        "print(f'Ensemble Accuracy: {accuracy_resnet18}%')"
      ],
      "metadata": {
        "colab": {
          "base_uri": "https://localhost:8080/"
        },
        "id": "LjDMUCTtwUoa",
        "outputId": "fcfcacf0-b35a-4096-8eda-b876ecfedd51"
      },
      "execution_count": null,
      "outputs": [
        {
          "output_type": "stream",
          "name": "stdout",
          "text": [
            "Ensemble Accuracy: 85.61%\n"
          ]
        }
      ]
    },
    {
      "cell_type": "markdown",
      "source": [],
      "metadata": {
        "id": "mu1GUzGNwNzM"
      }
    },
    {
      "cell_type": "code",
      "source": [
        "accuracy1 = evaluate_accuracy(resnet18_1, test_loader, device)\n",
        "accuracy2 = evaluate_accuracy(resnet18_2, test_loader, device)\n",
        "accuracy3 = evaluate_accuracy(resnet18_3, test_loader, device)"
      ],
      "metadata": {
        "id": "2RpkqTWzt0kL"
      },
      "execution_count": null,
      "outputs": []
    },
    {
      "cell_type": "code",
      "source": [
        "print(f'Test Accuracy: {accuracy1}%')\n",
        "print(f'Test Accuracy: {accuracy2}%')\n",
        "print(f'Test Accuracy: {accuracy3}%')"
      ],
      "metadata": {
        "colab": {
          "base_uri": "https://localhost:8080/"
        },
        "id": "d7beh7-Ht51u",
        "outputId": "3fa4a414-a013-4e61-d768-4306229bd6d4"
      },
      "execution_count": null,
      "outputs": [
        {
          "output_type": "stream",
          "name": "stdout",
          "text": [
            "Test Accuracy: 83.57%\n",
            "Test Accuracy: 83.31%\n",
            "Test Accuracy: 83.14%\n"
          ]
        }
      ]
    },
    {
      "cell_type": "code",
      "source": [
        "accuracy1 = evaluate_accuracy(mobilenet_1, test_loader, device)\n",
        "accuracy2 = evaluate_accuracy(mobilenet_2, test_loader, device)\n",
        "accuracy3 = evaluate_accuracy(mobilenet_3, test_loader, device)"
      ],
      "metadata": {
        "id": "jGkon0H4fMQt"
      },
      "execution_count": null,
      "outputs": []
    },
    {
      "cell_type": "code",
      "source": [
        "print(f'Test Accuracy: {accuracy1}%')\n",
        "print(f'Test Accuracy: {accuracy2}%')\n",
        "print(f'Test Accuracy: {accuracy3}%')"
      ],
      "metadata": {
        "id": "Bdw8nTAOfNB9"
      },
      "execution_count": null,
      "outputs": []
    },
    {
      "cell_type": "code",
      "source": [
        "accuracy1 = evaluate_accuracy(resnet50_1, test_loader, device)\n",
        "accuracy2 = evaluate_accuracy(resnet50_2, test_loader, device)\n",
        "accuracy3 = evaluate_accuracy(resnet50_3, test_loader, device)"
      ],
      "metadata": {
        "id": "2VblU7lpwPVu"
      },
      "execution_count": null,
      "outputs": []
    },
    {
      "cell_type": "code",
      "source": [
        "print(f'Test Accuracy: {accuracy1}%')\n",
        "print(f'Test Accuracy: {accuracy2}%')\n",
        "print(f'Test Accuracy: {accuracy3}%')"
      ],
      "metadata": {
        "colab": {
          "base_uri": "https://localhost:8080/"
        },
        "id": "0SdaQd7MwPOk",
        "outputId": "dce42ac4-d786-4e2b-8d03-9fe259c3ee3d"
      },
      "execution_count": null,
      "outputs": [
        {
          "output_type": "stream",
          "name": "stdout",
          "text": [
            "Test Accuracy: 84.57%\n",
            "Test Accuracy: 84.16%\n",
            "Test Accuracy: 80.58%\n"
          ]
        }
      ]
    },
    {
      "cell_type": "code",
      "source": [
        "predictions1 = get_predictions(resnet18_1,test_loader,device)\n",
        "predictions2 = get_predictions(resnet18_1,test_loader,device)\n",
        "predictions3 = get_predictions(resnet18_1,test_loader,device)"
      ],
      "metadata": {
        "id": "pCN2aqQ9tzWZ"
      },
      "execution_count": null,
      "outputs": []
    },
    {
      "cell_type": "code",
      "source": [
        "predictions_arr = [predictions1,predictions2,predictions3]"
      ],
      "metadata": {
        "id": "tWQSesFkv3zC"
      },
      "execution_count": null,
      "outputs": []
    },
    {
      "cell_type": "code",
      "source": [
        "predictions = get_predictions(resnet18,test_loader,device)"
      ],
      "metadata": {
        "id": "_RXa-fzbjiA9"
      },
      "execution_count": null,
      "outputs": []
    },
    {
      "cell_type": "code",
      "source": [
        "bote = vote(predictions_arr)\n",
        "print(bote)"
      ],
      "metadata": {
        "colab": {
          "base_uri": "https://localhost:8080/"
        },
        "id": "eyNVdy5JkMy9",
        "outputId": "0f83a1e2-defb-4c24-da28-82368d26caff"
      },
      "execution_count": null,
      "outputs": [
        {
          "output_type": "stream",
          "name": "stdout",
          "text": [
            "3\n"
          ]
        }
      ]
    },
    {
      "cell_type": "code",
      "source": [
        "print(predictions)"
      ],
      "metadata": {
        "colab": {
          "base_uri": "https://localhost:8080/"
        },
        "id": "T5mN0-kUjxYK",
        "outputId": "60879f86-f482-4668-b958-41dd27d56d99"
      },
      "execution_count": null,
      "outputs": [
        {
          "output_type": "stream",
          "name": "stdout",
          "text": [
            "[3, 1, 8, 0, 6, 6, 9, 6, 3, 1, 0, 9, 5, 7, 9, 8, 5, 7, 8, 6, 9, 0, 4, 9, 4, 2, 7, 0, 9, 6, 6, 5, 4, 2, 9, 3, 7, 9, 9, 5, 4, 6, 7, 6, 0, 9, 3, 8, 7, 6, 9, 8, 0, 5, 8, 8, 7, 3, 3, 2, 7, 5, 6, 3, 6, 2, 1, 2, 3, 7, 2, 6, 0, 8, 8, 2, 0, 3, 3, 8, 8, 1, 1, 7, 2, 7, 4, 7, 8, 9, 0, 6, 8, 6, 4, 6, 2, 0, 0, 7, 7, 5, 6, 3, 1, 1, 5, 6, 8, 7, 4, 0, 6, 2, 1, 3, 0, 4, 6, 7, 8, 3, 1, 2, 8, 0, 9, 3, 3, 0, 2, 1, 8, 9, 1, 2, 9, 7, 6, 8, 6, 5, 6, 5, 8, 7, 6, 5, 5, 2, 8, 9, 6, 0, 0, 5, 2, 9, 5, 4, 2, 1, 6, 6, 0, 2, 8, 4, 5, 0, 9, 7, 9, 8, 9, 9, 3, 7, 5, 0, 0, 5, 2, 3, 0, 8, 6, 2, 3, 0, 6, 8, 0, 9, 7, 2, 8, 8, 7, 8, 5, 1, 8, 7, 1, 3, 0, 5, 7, 9, 5, 4, 5, 9, 8, 0, 7, 9, 8, 2, 7, 6, 9, 7, 3, 9, 4, 4, 3, 2, 5, 1, 7, 8, 8, 0, 4, 7, 5, 5, 1, 1, 8, 9, 0, 6, 1, 8, 2, 2, 5, 3, 9, 9, 2, 3, 3, 0, 0, 9, 8, 1, 5, 7, 0, 8, 5, 4, 7, 0, 2, 3, 6, 3, 8, 5, 0, 2, 4, 5, 9, 0, 6, 1, 0, 9, 1, 0, 7, 9, 1, 2, 6, 9, 3, 4, 6, 0, 0, 6, 6, 6, 5, 2, 6, 1, 8, 2, 1, 4, 8, 6, 0, 2, 5, 0, 4, 7, 5, 5, 3, 5, 2, 5, 3, 5, 7, 5, 4, 6, 1, 9, 6, 6, 6, 9, 3, 8, 0, 5, 2, 6, 2, 5, 8, 5, 5, 6, 8, 9, 9, 1, 0, 2, 2, 4, 5, 3, 8, 0, 9, 5, 8, 8, 9, 4, 1, 3, 4, 1, 2, 7, 9, 4, 2, 7, 0, 7, 4, 6, 6, 9, 0, 9, 5, 8, 7, 2, 5, 5, 1, 2, 6, 2, 9, 6, 2, 3, 0, 9, 9, 8, 7, 8, 8, 6, 0, 1, 8, 2, 7, 9, 3, 6, 1, 9, 0, 7, 5, 7, 4, 5, 8, 0, 2, 9, 3, 4, 0, 6, 2, 5, 3, 5, 7, 7, 2, 5, 3, 1, 1, 2, 9, 9, 5, 7, 5, 0, 2, 0, 2, 9, 7, 3, 9, 4, 3, 5, 3, 8, 5, 6, 1, 5, 3, 4, 4, 3, 5, 8, 3, 7, 8, 0, 5, 7, 6, 6, 5, 4, 3, 6, 8, 7, 5, 2, 9, 9, 4, 2, 1, 0, 8, 1, 1, 8, 0, 2, 2, 0, 4, 6, 5, 4, 9, 4, 7, 9, 9, 4, 5, 6, 6, 1, 5, 3, 8, 9, 7, 8, 5, 7, 0, 7, 0, 5, 0, 0, 4, 6, 9, 0, 1, 5, 6, 6, 6, 2, 9, 0, 1, 7, 6, 7, 5, 9, 1, 6, 2, 3, 5, 5, 8, 5, 9, 4, 6, 4, 3, 2, 0, 7, 6, 3, 2, 5, 9, 3, 9, 2, 2, 7, 1, 3, 6, 6, 8, 8, 7, 2, 4, 0, 8, 5, 0, 9, 3, 4, 8, 9, 6, 9, 2, 6, 1, 0, 7, 9, 5, 3, 8, 5, 0, 2, 1, 6, 3, 2, 3, 9, 6, 9, 8, 8, 5, 8, 6, 6, 2, 1, 7, 0, 1, 2, 7, 9, 9, 4, 4, 1, 2, 5, 6, 8, 7, 6, 8, 7, 0, 5, 3, 3, 0, 7, 9, 1, 6, 3, 4, 5, 3, 9, 5, 6, 9, 4, 1, 1, 4, 1, 9, 4, 7, 6, 3, 0, 9, 0, 1, 3, 6, 5, 6, 3, 2, 2, 3, 1, 0, 5, 1, 6, 4, 0, 9, 2, 9, 2, 3, 0, 3, 2, 2, 7, 8, 3, 8, 2, 7, 5, 7, 2, 4, 8, 7, 4, 2, 9, 8, 8, 2, 0, 8, 7, 4, 3, 3, 4, 6, 9, 7, 8, 8, 1, 8, 0, 1, 3, 6, 5, 4, 8, 7, 9, 8, 2, 1, 4, 1, 7, 5, 7, 0, 7, 8, 7, 6, 6, 2, 3, 9, 0, 9, 1, 2, 2, 6, 8, 2, 1, 3, 6, 6, 0, 1, 2, 7, 9, 5, 4, 5, 1, 6, 4, 0, 2, 5, 6, 0, 5, 9, 1, 7, 6, 7, 0, 3, 9, 6, 8, 0, 0, 5, 5, 7, 7, 4, 4, 7, 2, 7, 1, 2, 7, 4, 4, 8, 4, 7, 7, 2, 5, 7, 2, 0, 8, 9, 5, 8, 6, 6, 2, 0, 8, 7, 3, 7, 6, 5, 3, 0, 3, 2, 5, 6, 5, 9, 2, 9, 2, 7, 0, 7, 2, 1, 0, 2, 0, 2, 4, 5, 9, 8, 1, 0, 7, 7, 0, 7, 8, 4, 6, 6, 3, 0, 1, 5, 7, 0, 1, 3, 1, 4, 2, 3, 8, 4, 2, 4, 7, 8, 4, 0, 8, 9, 4, 0, 8, 8, 4, 4, 6, 7, 7, 1, 1, 3, 7, 7, 5, 6, 6, 6, 5, 0, 7, 1, 6, 8, 8, 5, 3, 3, 4, 0, 1, 4, 8, 8, 0, 6, 9, 9, 9, 5, 3, 8, 6, 0, 0, 4, 2, 3, 5, 7, 2, 2, 5, 9, 8, 9, 7, 5, 6, 0, 3, 0, 1, 8, 8, 3, 9, 6, 3, 4, 7, 2, 6, 7, 8, 9, 6, 1, 6, 6, 6, 6, 9, 1, 9, 9, 4, 2, 1, 7, 0, 6, 8, 1, 9, 2, 9, 5, 4, 7, 8, 3, 1, 2, 0, 1, 5, 8, 7, 2, 5, 8, 1, 3, 8, 5, 0, 8, 4, 8, 1, 1, 8, 3, 6, 0, 8, 2, 1, 3, 4, 1, 6, 0, 3, 1, 1, 0, 0, 3, 5, 0, 0, 6, 6, 3, 3, 6, 3, 5, 6, 0, 7, 2, 4, 5, 5, 2, 2, 8, 5, 2, 1, 1, 1, 3, 0, 0, 3, 1, 5, 3, 3, 6, 8, 9, 1, 6, 4, 9, 6, 1, 0, 9, 6, 3, 6, 8, 7, 6, 8, 0, 0, 0, 6, 6, 6, 9, 2, 5, 4, 4, 6, 3, 6, 0, 8, 6, 0, 3, 2, 7, 5, 1, 2, 7, 8, 8, 0, 9, 2, 9, 7, 2, 0, 2, 8, 3, 8, 9, 1, 5, 5, 4, 7, 5, 3, 8, 3, 3, 6, 2, 8, 5, 3, 7, 9, 3, 4, 1, 6, 9, 9, 9, 8, 6, 1, 8, 6, 1, 3, 2, 6, 2, 7, 7, 2, 0, 8, 6, 9, 1, 7, 1, 8, 8, 0, 7, 7, 8, 0, 3, 4, 5, 7, 7, 9, 7, 3, 1, 9, 1, 1, 6, 3, 3, 6, 1, 0, 6, 1, 4, 1, 0, 2, 1, 1, 6, 3, 4, 6, 2, 0, 7, 9, 8, 5, 2, 8, 6, 8, 1, 4, 3, 7, 0, 6, 1, 8, 5, 7, 8, 3, 8, 3, 9, 9, 9, 8, 7, 6, 6, 3, 5, 1, 3, 9, 1, 4, 1, 5, 3, 0, 1, 5, 2, 0, 1, 8, 5, 6, 7, 5, 4, 4, 7, 2, 5, 8, 2, 4, 9, 2, 1, 8, 1, 0, 8, 8, 8, 1, 8, 4, 3, 3, 9, 8, 7, 6, 3, 3, 5, 2, 2, 8, 5, 8, 9, 5, 8, 9, 8, 9, 1, 6, 5, 1, 4, 7, 8, 0, 7, 2, 9, 4, 4, 1, 6, 2, 8, 9, 8, 2, 5, 6, 0, 8, 6, 1, 9, 2, 5, 9, 5, 0, 7, 2, 0, 2, 4, 4, 6, 6, 5, 5, 2, 8, 1, 7, 2, 1, 4, 5, 6, 7, 1, 4, 7, 0, 9, 4, 4, 8, 2, 8, 4, 7, 2, 3, 1, 5, 2, 9, 8, 9, 7, 9, 5, 1, 4, 0, 8, 2, 7, 8, 9, 1, 1, 3, 2, 4, 9, 3, 1, 7, 3, 6, 2, 8, 9, 5, 3, 9, 3, 5, 6, 5, 2, 3, 9, 1, 1, 0, 7, 2, 3, 4, 7, 6, 1, 7, 9, 8, 1, 0, 1, 3, 1, 1, 1, 7, 3, 9, 6, 8, 2, 6, 8, 4, 9, 4, 7, 9, 7, 6, 8, 4, 9, 7, 0, 6, 6, 1, 5, 1, 0, 4, 3, 4, 1, 4, 0, 8, 4, 6, 2, 2, 6, 2, 3, 6, 2, 1, 1, 8, 6, 0, 2, 0, 1, 9, 7, 1, 3, 5, 7, 0, 7, 7, 5, 9, 7, 5, 7, 3, 1, 2, 8, 6, 4, 2, 7, 9, 8, 6, 8, 3, 8, 1, 3, 0, 2, 8, 3, 8, 1, 5, 2, 4, 1, 2, 7, 9, 8, 1, 8, 1, 8, 6, 0, 2, 0, 1, 3, 6, 7, 4, 4, 4, 3, 5, 5, 4, 2, 5, 3, 7, 8, 4, 4, 4, 3, 4, 3, 2, 8, 2, 5, 5, 4, 1, 4, 0, 5, 7, 6, 4, 3, 4, 4, 0, 8, 8, 4, 5, 7, 5, 6, 9, 1, 6, 7, 2, 0, 6, 4, 5, 6, 0, 0, 2, 3, 3, 6, 6, 6, 2, 9, 1, 7, 7, 5, 2, 5, 6, 0, 1, 3, 3, 6, 3, 0, 3, 5, 5, 8, 9, 7, 3, 1, 3, 3, 5, 4, 4, 2, 3, 3, 1, 1, 7, 7, 0, 7, 4, 3, 1, 4, 2, 4, 3, 0, 9, 4, 9, 9, 9, 0, 1, 6, 7, 5, 5, 4, 9, 7, 6, 5, 9, 3, 4, 0, 7, 8, 2, 5, 2, 0, 9, 7, 8, 2, 5, 4, 8, 3, 6, 3, 6, 0, 6, 6, 6, 9, 6, 6, 8, 6, 2, 4, 5, 8, 1, 2, 7, 6, 5, 7, 8, 8, 2, 0, 0, 6, 8, 2, 8, 9, 8, 0, 9, 4, 9, 5, 7, 5, 5, 9, 5, 3, 0, 1, 9, 7, 2, 4, 1, 0, 0, 0, 3, 1, 7, 8, 0, 2, 2, 6, 3, 4, 0, 0, 9, 0, 8, 4, 3, 9, 3, 9, 0, 5, 6, 5, 3, 1, 4, 8, 1, 0, 5, 4, 1, 0, 2, 8, 1, 5, 6, 7, 7, 5, 6, 2, 3, 0, 1, 4, 2, 5, 6, 6, 2, 2, 0, 7, 2, 8, 5, 5, 3, 0, 4, 8, 3, 7, 6, 3, 8, 1, 0, 1, 0, 9, 0, 7, 6, 9, 5, 5, 6, 0, 1, 4, 4, 4, 4, 2, 3, 6, 8, 1, 5, 9, 8, 1, 1, 7, 3, 9, 9, 3, 6, 5, 0, 8, 4, 7, 9, 9, 2, 8, 4, 9, 1, 3, 9, 6, 8, 9, 5, 4, 9, 6, 7, 8, 9, 4, 8, 9, 7, 2, 5, 3, 7, 3, 0, 2, 9, 5, 5, 8, 5, 7, 2, 8, 5, 4, 5, 7, 7, 8, 6, 2, 8, 2, 3, 5, 6, 8, 0, 6, 3, 7, 0, 1, 9, 1, 6, 5, 5, 5, 3, 2, 8, 6, 8, 5, 9, 3, 8, 8, 0, 2, 7, 8, 5, 2, 0, 1, 3, 9, 1, 5, 3, 4, 4, 0, 9, 9, 9, 9, 8, 2, 4, 2, 2, 5, 1, 3, 1, 0, 9, 4, 4, 1, 6, 0, 5, 7, 2, 3, 3, 0, 5, 5, 7, 2, 8, 4, 7, 8, 3, 5, 0, 5, 7, 4, 2, 4, 5, 7, 7, 6, 0, 5, 7, 6, 2, 3, 0, 7, 7, 8, 9, 1, 4, 6, 0, 6, 6, 5, 5, 6, 3, 9, 3, 6, 2, 7, 6, 4, 9, 5, 6, 7, 1, 6, 2, 9, 2, 6, 9, 2, 5, 1, 5, 2, 5, 7, 3, 7, 8, 9, 1, 2, 3, 5, 6, 8, 6, 6, 6, 6, 9, 9, 8, 5, 5, 6, 4, 5, 9, 7, 5, 4, 1, 6, 3, 2, 2, 3, 5, 2, 8, 0, 0, 1, 8, 5, 1, 5, 5, 8, 3, 8, 5, 8, 6, 5, 5, 5, 5, 0, 8, 3, 2, 7, 1, 8, 3, 2, 4, 3, 4, 2, 9, 6, 2, 2, 4, 3, 0, 6, 0, 9, 6, 2, 2, 7, 0, 1, 0, 7, 7, 2, 2, 1, 6, 5, 0, 9, 2, 0, 1, 2, 6, 0, 9, 6, 6, 5, 3, 5, 0, 0, 9, 1, 0, 2, 5, 9, 7, 8, 6, 4, 6, 0, 2, 0, 1, 1, 2, 6, 9, 0, 5, 2, 3, 4, 8, 9, 2, 6, 8, 9, 7, 1, 9, 3, 4, 2, 7, 9, 6, 9, 5, 7, 8, 3, 0, 8, 5, 9, 7, 0, 3, 5, 7, 1, 0, 2, 7, 5, 8, 2, 2, 5, 6, 8, 3, 1, 9, 3, 1, 4, 3, 4, 4, 9, 0, 9, 3, 9, 2, 9, 4, 0, 0, 8, 4, 8, 6, 8, 3, 2, 5, 9, 6, 9, 3, 1, 5, 4, 4, 2, 7, 2, 6, 4, 0, 2, 8, 4, 5, 1, 2, 6, 8, 1, 7, 6, 8, 7, 4, 3, 3, 5, 0, 7, 2, 5, 6, 1, 7, 9, 0, 2, 3, 9, 8, 9, 5, 0, 0, 7, 3, 3, 3, 8, 1, 4, 0, 1, 5, 4, 3, 4, 6, 0, 8, 8, 6, 3, 3, 4, 8, 7, 5, 1, 6, 0, 5, 9, 9, 4, 5, 9, 3, 8, 3, 3, 2, 2, 1, 9, 5, 5, 1, 1, 8, 9, 7, 0, 3, 3, 2, 0, 2, 6, 2, 3, 9, 1, 6, 6, 7, 2, 5, 5, 2, 6, 5, 2, 7, 5, 2, 0, 8, 0, 0, 7, 0, 4, 4, 0, 5, 2, 6, 1, 5, 9, 7, 6, 2, 7, 0, 5, 6, 0, 1, 1, 8, 4, 5, 5, 1, 2, 4, 8, 0, 8, 1, 5, 2, 7, 0, 3, 2, 6, 7, 9, 4, 0, 1, 0, 4, 5, 0, 8, 0, 7, 6, 1, 8, 8, 5, 9, 4, 5, 7, 4, 9, 0, 6, 1, 2, 5, 1, 6, 7, 7, 2, 0, 8, 0, 8, 9, 4, 0, 6, 4, 9, 2, 4, 3, 0, 6, 3, 5, 6, 6, 7, 8, 3, 8, 8, 3, 6, 8, 0, 2, 5, 6, 8, 7, 8, 0, 9, 0, 2, 6, 8, 1, 1, 7, 4, 3, 2, 2, 6, 9, 6, 2, 5, 1, 8, 2, 4, 1, 3, 8, 6, 8, 5, 9, 2, 1, 6, 2, 9, 2, 9, 2, 9, 7, 8, 5, 8, 6, 6, 8, 1, 6, 2, 8, 7, 6, 2, 1, 6, 4, 5, 6, 3, 0, 9, 8, 9, 3, 8, 9, 9, 3, 6, 6, 4, 8, 8, 1, 7, 5, 0, 6, 3, 4, 1, 2, 2, 9, 2, 2, 9, 7, 4, 1, 5, 1, 4, 3, 6, 5, 8, 9, 3, 2, 2, 1, 6, 9, 6, 5, 1, 4, 8, 2, 1, 0, 3, 2, 4, 8, 4, 0, 6, 2, 4, 9, 8, 4, 7, 6, 2, 4, 7, 7, 6, 4, 2, 2, 3, 2, 2, 7, 0, 2, 9, 6, 3, 8, 5, 2, 4, 8, 8, 6, 4, 5, 7, 6, 5, 4, 0, 4, 0, 3, 8, 4, 8, 0, 4, 9, 5, 3, 3, 8, 1, 6, 0, 8, 4, 5, 1, 2, 5, 2, 4, 5, 6, 0, 7, 1, 3, 5, 3, 1, 8, 0, 4, 8, 2, 7, 7, 0, 2, 2, 4, 5, 7, 1, 3, 1, 6, 4, 6, 7, 4, 7, 3, 8, 1, 3, 1, 4, 6, 5, 5, 7, 4, 5, 4, 9, 7, 7, 2, 3, 5, 6, 7, 4, 1, 6, 1, 0, 6, 9, 6, 0, 6, 2, 2, 6, 7, 0, 0, 0, 0, 7, 5, 3, 2, 7, 8, 5, 5, 6, 2, 8, 9, 1, 2, 5, 0, 3, 4, 9, 1, 6, 0, 0, 0, 3, 6, 4, 6, 7, 5, 1, 8, 8, 0, 5, 0, 5, 3, 3, 8, 4, 2, 0, 8, 5, 9, 2, 3, 6, 5, 7, 3, 7, 6, 8, 8, 4, 2, 1, 6, 2, 9, 9, 8, 2, 3, 1, 0, 5, 2, 3, 7, 9, 5, 9, 1, 1, 3, 2, 7, 2, 4, 1, 9, 4, 3, 5, 9, 3, 7, 6, 1, 2, 3, 7, 5, 4, 3, 7, 7, 0, 5, 1, 2, 4, 3, 7, 9, 8, 7, 0, 9, 0, 3, 7, 6, 5, 8, 4, 5, 6, 5, 5, 4, 2, 9, 2, 4, 3, 2, 0, 1, 9, 3, 7, 9, 5, 1, 6, 0, 3, 3, 7, 6, 4, 5, 2, 3, 6, 6, 3, 0, 4, 2, 3, 8, 1, 2, 3, 2, 7, 8, 3, 2, 6, 8, 6, 3, 5, 4, 2, 9, 3, 3, 2, 0, 4, 6, 5, 5, 6, 6, 5, 6, 9, 7, 9, 4, 8, 6, 6, 9, 0, 1, 9, 0, 5, 0, 4, 7, 7, 2, 6, 5, 6, 9, 7, 7, 5, 7, 0, 8, 6, 5, 8, 3, 8, 9, 5, 2, 9, 2, 7, 4, 1, 9, 7, 0, 8, 1, 6, 0, 6, 5, 1, 4, 2, 8, 2, 8, 3, 5, 1, 4, 9, 8, 1, 1, 7, 9, 9, 4, 6, 8, 5, 5, 5, 2, 0, 8, 5, 1, 9, 7, 9, 1, 3, 3, 1, 0, 3, 8, 9, 3, 0, 0, 8, 7, 0, 4, 8, 3, 0, 7, 0, 7, 0, 5, 5, 4, 3, 0, 9, 9, 0, 2, 2, 0, 8, 4, 4, 5, 2, 8, 8, 1, 5, 5, 4, 3, 4, 0, 8, 4, 8, 5, 5, 6, 5, 1, 7, 8, 4, 0, 5, 6, 8, 7, 6, 3, 1, 3, 6, 6, 4, 5, 5, 5, 8, 8, 7, 3, 0, 4, 7, 1, 1, 9, 6, 3, 2, 1, 2, 3, 9, 8, 3, 1, 7, 4, 3, 4, 7, 5, 8, 6, 0, 5, 0, 2, 2, 3, 4, 9, 4, 6, 1, 7, 7, 7, 9, 2, 1, 3, 1, 3, 2, 5, 0, 7, 1, 5, 1, 3, 2, 1, 8, 8, 1, 9, 7, 3, 3, 2, 9, 0, 6, 8, 4, 0, 5, 2, 0, 4, 7, 7, 4, 9, 0, 7, 0, 6, 7, 1, 8, 3, 8, 8, 5, 0, 0, 2, 3, 3, 7, 0, 6, 4, 3, 9, 1, 8, 6, 3, 9, 4, 9, 3, 3, 7, 5, 9, 7, 5, 4, 5, 8, 2, 8, 9, 5, 3, 1, 9, 2, 2, 0, 1, 9, 8, 1, 1, 9, 8, 9, 9, 0, 2, 6, 9, 1, 9, 0, 5, 9, 2, 9, 9, 9, 1, 9, 9, 2, 1, 7, 0, 5, 6, 6, 9, 8, 3, 0, 2, 0, 7, 4, 8, 3, 0, 3, 2, 3, 5, 7, 6, 6, 6, 5, 6, 3, 4, 5, 8, 8, 0, 9, 6, 9, 9, 6, 9, 6, 1, 4, 7, 1, 0, 5, 5, 4, 7, 6, 9, 0, 2, 3, 9, 3, 3, 7, 8, 3, 5, 3, 9, 6, 1, 4, 7, 4, 8, 7, 7, 7, 3, 0, 3, 2, 3, 4, 9, 3, 5, 4, 7, 0, 3, 7, 0, 2, 1, 5, 8, 7, 3, 5, 7, 8, 5, 7, 8, 1, 3, 4, 7, 0, 8, 3, 2, 9, 7, 4, 1, 6, 5, 9, 8, 5, 5, 4, 1, 0, 9, 4, 4, 3, 0, 4, 4, 0, 8, 2, 9, 5, 9, 5, 7, 6, 7, 9, 2, 9, 3, 7, 7, 8, 2, 2, 0, 2, 5, 6, 6, 4, 7, 2, 3, 7, 8, 7, 2, 5, 0, 0, 7, 0, 5, 6, 1, 0, 5, 9, 7, 4, 9, 1, 6, 8, 1, 2, 3, 5, 5, 2, 3, 9, 7, 4, 4, 1, 2, 5, 9, 0, 7, 9, 3, 1, 2, 1, 6, 6, 4, 5, 7, 4, 5, 8, 5, 2, 8, 7, 8, 2, 6, 6, 1, 5, 3, 1, 5, 1, 9, 0, 9, 2, 0, 1, 2, 6, 8, 5, 7, 6, 1, 2, 9, 4, 5, 0, 3, 3, 7, 4, 7, 1, 4, 3, 0, 3, 8, 5, 0, 0, 6, 2, 0, 8, 4, 5, 5, 5, 6, 4, 7, 9, 3, 6, 0, 7, 2, 0, 0, 3, 4, 6, 1, 1, 5, 5, 2, 2, 6, 3, 4, 3, 6, 1, 3, 2, 2, 9, 6, 5, 0, 2, 9, 5, 1, 7, 2, 2, 0, 8, 6, 4, 3, 2, 7, 7, 0, 4, 1, 6, 5, 1, 3, 4, 5, 9, 0, 7, 5, 3, 1, 4, 0, 1, 9, 8, 4, 9, 4, 2, 4, 3, 6, 4, 0, 4, 6, 5, 8, 1, 1, 5, 8, 1, 8, 2, 6, 4, 2, 4, 1, 1, 6, 6, 8, 5, 2, 2, 5, 0, 8, 2, 3, 6, 2, 9, 6, 9, 4, 5, 9, 0, 1, 7, 0, 8, 1, 1, 6, 6, 6, 5, 2, 7, 7, 8, 6, 9, 1, 7, 6, 0, 9, 3, 5, 3, 2, 3, 3, 4, 9, 7, 1, 4, 4, 6, 1, 3, 8, 8, 1, 6, 7, 7, 6, 7, 2, 5, 2, 4, 6, 2, 7, 6, 0, 3, 6, 2, 6, 3, 2, 0, 9, 5, 1, 1, 5, 5, 2, 4, 3, 2, 1, 0, 4, 3, 5, 2, 8, 9, 4, 3, 1, 8, 7, 1, 3, 3, 4, 4, 2, 9, 7, 6, 8, 1, 8, 9, 9, 3, 1, 7, 3, 0, 0, 2, 8, 5, 9, 2, 7, 4, 6, 0, 1, 6, 1, 6, 7, 5, 5, 2, 5, 9, 4, 0, 2, 3, 4, 9, 4, 1, 0, 0, 2, 6, 8, 9, 2, 8, 1, 5, 0, 9, 1, 4, 6, 2, 8, 3, 6, 8, 9, 3, 1, 1, 6, 5, 8, 4, 6, 4, 5, 2, 6, 4, 5, 3, 1, 3, 6, 8, 5, 2, 2, 7, 1, 6, 2, 5, 9, 3, 8, 1, 6, 9, 5, 7, 3, 3, 2, 9, 7, 0, 2, 9, 5, 4, 1, 6, 9, 5, 8, 9, 7, 3, 3, 0, 7, 7, 4, 2, 4, 7, 0, 1, 8, 1, 8, 4, 6, 1, 3, 9, 0, 0, 2, 3, 6, 9, 7, 7, 3, 4, 2, 0, 2, 5, 5, 7, 5, 7, 1, 4, 2, 0, 6, 1, 7, 5, 6, 5, 5, 9, 6, 7, 8, 5, 9, 5, 8, 5, 4, 3, 7, 1, 8, 1, 2, 2, 8, 9, 3, 8, 6, 4, 0, 2, 0, 1, 3, 3, 4, 5, 5, 7, 9, 6, 5, 7, 9, 1, 5, 6, 9, 8, 7, 2, 0, 9, 0, 8, 5, 9, 6, 2, 5, 8, 1, 9, 1, 8, 7, 7, 6, 4, 2, 3, 7, 0, 5, 5, 8, 8, 8, 7, 9, 6, 2, 7, 4, 5, 7, 6, 7, 1, 7, 6, 6, 8, 3, 6, 6, 5, 1, 6, 9, 7, 1, 7, 0, 1, 6, 3, 5, 9, 0, 1, 2, 5, 2, 2, 5, 4, 9, 8, 7, 4, 4, 9, 7, 6, 7, 7, 1, 2, 5, 5, 1, 9, 0, 3, 3, 1, 5, 6, 6, 2, 7, 6, 8, 8, 9, 6, 6, 1, 0, 7, 5, 8, 2, 1, 5, 8, 1, 4, 2, 5, 0, 6, 0, 9, 5, 2, 8, 4, 5, 9, 0, 4, 4, 8, 2, 9, 0, 7, 9, 8, 7, 1, 6, 2, 1, 9, 3, 9, 7, 6, 7, 7, 1, 1, 2, 4, 2, 0, 6, 8, 9, 6, 2, 2, 1, 7, 3, 7, 0, 0, 6, 8, 6, 8, 2, 7, 7, 5, 1, 8, 1, 6, 5, 9, 7, 8, 9, 6, 5, 8, 1, 9, 4, 0, 4, 1, 4, 5, 6, 2, 2, 0, 0, 9, 7, 0, 7, 4, 3, 6, 7, 7, 5, 5, 4, 3, 5, 5, 4, 0, 0, 0, 7, 3, 1, 6, 5, 0, 7, 7, 4, 6, 1, 8, 5, 9, 2, 5, 6, 2, 2, 7, 5, 5, 8, 1, 0, 6, 8, 7, 4, 8, 5, 7, 5, 4, 9, 7, 3, 5, 8, 8, 6, 9, 6, 7, 2, 0, 8, 0, 7, 0, 3, 2, 5, 2, 6, 5, 0, 4, 8, 2, 4, 0, 6, 4, 5, 6, 0, 8, 0, 0, 6, 1, 1, 6, 1, 4, 2, 1, 8, 2, 0, 4, 2, 9, 8, 8, 5, 1, 8, 2, 2, 3, 9, 6, 6, 6, 0, 7, 3, 3, 2, 7, 4, 5, 6, 0, 2, 1, 8, 1, 0, 9, 3, 1, 0, 5, 4, 2, 3, 3, 6, 7, 2, 0, 0, 5, 7, 4, 7, 7, 0, 6, 1, 2, 9, 0, 1, 0, 3, 8, 4, 0, 8, 4, 1, 0, 2, 2, 4, 1, 1, 2, 4, 5, 4, 1, 4, 7, 1, 0, 0, 9, 0, 4, 2, 8, 8, 5, 5, 0, 4, 0, 8, 6, 2, 5, 9, 2, 9, 1, 1, 5, 4, 7, 5, 8, 6, 2, 1, 5, 5, 5, 4, 1, 0, 9, 9, 8, 9, 8, 6, 8, 5, 8, 9, 4, 6, 2, 6, 3, 7, 4, 0, 0, 1, 7, 5, 6, 5, 1, 3, 1, 6, 8, 2, 3, 6, 9, 1, 0, 0, 1, 7, 2, 6, 1, 9, 0, 0, 8, 9, 9, 0, 8, 6, 5, 5, 6, 0, 5, 2, 0, 5, 4, 7, 5, 0, 1, 6, 8, 8, 1, 2, 8, 5, 4, 5, 9, 6, 7, 1, 0, 6, 9, 4, 7, 7, 3, 9, 9, 1, 9, 7, 0, 1, 3, 5, 4, 6, 3, 8, 8, 0, 4, 8, 3, 6, 7, 3, 0, 3, 5, 2, 6, 8, 4, 9, 9, 9, 2, 0, 6, 2, 8, 1, 1, 8, 0, 3, 7, 4, 1, 1, 9, 2, 7, 6, 6, 8, 6, 0, 2, 8, 5, 0, 5, 3, 5, 7, 9, 8, 7, 4, 3, 1, 4, 8, 5, 6, 5, 3, 1, 8, 9, 5, 7, 6, 3, 0, 6, 9, 9, 0, 5, 2, 3, 5, 1, 1, 0, 2, 8, 2, 1, 1, 5, 5, 2, 5, 3, 1, 2, 9, 2, 1, 1, 4, 8, 9, 0, 3, 4, 9, 0, 3, 5, 0, 6, 8, 7, 5, 3, 8, 9, 0, 2, 5, 3, 6, 1, 3, 1, 5, 0, 3, 4, 4, 0, 1, 5, 3, 1, 7, 9, 9, 6, 2, 4, 7, 8, 3, 4, 7, 0, 2, 8, 4, 8, 5, 8, 8, 8, 3, 3, 5, 7, 3, 2, 4, 1, 5, 9, 7, 0, 6, 8, 3, 9, 0, 9, 8, 9, 6, 7, 9, 2, 2, 4, 0, 3, 5, 5, 4, 5, 1, 1, 8, 2, 2, 9, 3, 7, 9, 9, 2, 3, 1, 7, 4, 2, 5, 0, 1, 0, 5, 3, 3, 4, 7, 2, 0, 0, 2, 1, 3, 3, 7, 4, 3, 8, 4, 8, 9, 9, 7, 2, 4, 3, 6, 6, 6, 4, 6, 6, 7, 8, 7, 4, 8, 0, 5, 9, 5, 2, 0, 7, 5, 1, 9, 5, 9, 1, 8, 4, 2, 1, 6, 4, 3, 7, 1, 4, 8, 6, 1, 7, 1, 4, 5, 4, 3, 6, 9, 7, 8, 2, 5, 5, 4, 5, 4, 5, 7, 6, 5, 5, 1, 5, 7, 8, 3, 6, 0, 2, 5, 2, 5, 7, 4, 5, 1, 6, 8, 6, 8, 3, 2, 7, 3, 9, 7, 1, 4, 7, 6, 6, 1, 7, 3, 0, 0, 6, 6, 8, 6, 6, 0, 3, 4, 7, 4, 8, 4, 9, 9, 5, 4, 1, 4, 8, 3, 7, 1, 2, 6, 0, 4, 7, 8, 5, 3, 6, 5, 6, 0, 6, 4, 9, 4, 2, 7, 3, 8, 5, 9, 4, 1, 6, 9, 9, 3, 5, 9, 8, 2, 6, 9, 5, 9, 0, 9, 7, 2, 2, 4, 4, 6, 4, 8, 1, 9, 5, 6, 3, 1, 8, 6, 0, 7, 6, 5, 9, 3, 9, 6, 1, 0, 2, 1, 6, 4, 9, 0, 0, 9, 1, 0, 5, 4, 1, 6, 9, 8, 9, 0, 6, 1, 6, 5, 3, 5, 6, 9, 0, 7, 2, 2, 8, 3, 4, 8, 6, 9, 9, 9, 4, 6, 2, 3, 9, 5, 4, 1, 9, 2, 0, 7, 3, 5, 1, 8, 5, 0, 5, 2, 4, 8, 3, 8, 6, 0, 3, 5, 3, 4, 1, 3, 0, 7, 3, 9, 3, 5, 5, 1, 4, 2, 4, 9, 9, 7, 1, 7, 0, 1, 2, 1, 5, 3, 8, 4, 1, 1, 1, 9, 0, 7, 0, 1, 7, 6, 2, 6, 5, 0, 3, 1, 3, 9, 9, 1, 0, 8, 8, 5, 9, 2, 9, 1, 6, 6, 7, 6, 7, 8, 6, 2, 4, 2, 3, 6, 5, 5, 1, 6, 4, 1, 6, 1, 7, 9, 6, 0, 3, 0, 4, 6, 9, 7, 3, 5, 6, 0, 9, 8, 1, 1, 3, 5, 6, 3, 3, 8, 7, 5, 0, 7, 7, 5, 0, 1, 9, 9, 1, 8, 7, 3, 5, 5, 6, 0, 7, 0, 6, 6, 0, 6, 8, 1, 6, 6, 1, 1, 2, 7, 9, 0, 1, 2, 5, 4, 5, 7, 4, 8, 3, 3, 2, 4, 5, 2, 0, 1, 2, 9, 8, 1, 7, 3, 5, 9, 1, 9, 1, 1, 5, 6, 5, 4, 9, 3, 2, 6, 5, 0, 1, 3, 7, 3, 5, 3, 5, 1, 7, 6, 8, 4, 4, 5, 7, 3, 4, 7, 7, 5, 6, 0, 7, 2, 6, 7, 4, 1, 8, 0, 2, 3, 1, 5, 4, 0, 9, 3, 4, 4, 2, 3, 0, 5, 0, 0, 4, 6, 3, 9, 2, 0, 5, 7, 6, 5, 8, 7, 3, 1, 6, 7, 9, 0, 1, 2, 1, 4, 2, 1, 5, 9, 5, 0, 4, 9, 5, 9, 5, 8, 2, 8, 0, 6, 5, 2, 8, 1, 7, 5, 6, 9, 5, 6, 3, 9, 5, 6, 1, 0, 9, 6, 9, 8, 0, 7, 2, 2, 3, 5, 5, 7, 8, 7, 6, 9, 1, 9, 8, 6, 3, 6, 7, 5, 6, 7, 2, 5, 9, 6, 6, 7, 0, 1, 0, 1, 3, 2, 5, 6, 1, 2, 5, 1, 9, 9, 8, 6, 8, 3, 8, 9, 2, 4, 0, 5, 3, 6, 4, 3, 9, 7, 2, 3, 8, 6, 4, 6, 0, 3, 0, 3, 0, 2, 7, 2, 7, 2, 9, 2, 5, 0, 6, 6, 7, 4, 5, 5, 1, 1, 1, 3, 3, 3, 5, 4, 8, 0, 0, 3, 1, 3, 7, 7, 2, 8, 3, 6, 7, 1, 9, 5, 3, 8, 4, 8, 4, 7, 3, 0, 5, 3, 1, 2, 6, 1, 5, 2, 0, 7, 5, 0, 0, 8, 1, 6, 3, 5, 8, 4, 5, 1, 7, 6, 0, 4, 0, 4, 1, 4, 0, 1, 2, 1, 7, 7, 9, 8, 5, 5, 4, 0, 9, 0, 0, 8, 6, 0, 0, 7, 4, 8, 6, 2, 4, 6, 3, 5, 1, 3, 5, 7, 2, 2, 9, 8, 0, 0, 7, 6, 4, 4, 6, 1, 6, 5, 4, 2, 5, 9, 5, 0, 8, 0, 4, 6, 5, 7, 9, 7, 0, 5, 7, 7, 3, 1, 9, 5, 0, 1, 5, 3, 7, 9, 4, 7, 6, 7, 7, 1, 4, 1, 0, 8, 7, 0, 0, 4, 7, 2, 9, 7, 6, 9, 3, 5, 8, 0, 4, 6, 0, 7, 2, 4, 7, 1, 1, 3, 9, 7, 5, 1, 8, 8, 7, 0, 1, 6, 9, 3, 2, 7, 7, 8, 9, 0, 3, 4, 6, 7, 3, 2, 0, 1, 5, 5, 1, 4, 1, 3, 0, 8, 6, 2, 1, 6, 5, 4, 1, 9, 0, 4, 1, 0, 1, 9, 0, 6, 9, 2, 4, 7, 6, 2, 7, 7, 9, 1, 5, 6, 6, 5, 4, 4, 1, 4, 8, 2, 6, 6, 1, 6, 5, 6, 5, 8, 4, 6, 7, 1, 9, 5, 6, 7, 6, 0, 7, 1, 9, 3, 2, 6, 7, 7, 6, 5, 9, 1, 3, 6, 0, 2, 0, 1, 1, 8, 6, 5, 0, 0, 0, 5, 5, 7, 3, 5, 5, 5, 1, 6, 1, 5, 1, 0, 6, 2, 3, 2, 1, 7, 5, 1, 9, 8, 3, 3, 9, 7, 3, 0, 2, 3, 9, 4, 6, 3, 9, 6, 8, 6, 6, 8, 5, 4, 4, 6, 2, 7, 4, 6, 9, 6, 2, 4, 0, 1, 3, 6, 2, 9, 2, 6, 0, 3, 8, 7, 5, 8, 3, 8, 3, 2, 6, 3, 6, 5, 7, 4, 5, 7, 9, 0, 3, 6, 7, 4, 4, 5, 5, 7, 5, 5, 9, 4, 6, 4, 7, 2, 5, 6, 5, 1, 6, 3, 1, 6, 7, 0, 5, 2, 1, 9, 7, 3, 5, 2, 6, 9, 5, 6, 3, 0, 0, 0, 8, 0, 3, 2, 4, 5, 3, 7, 9, 6, 9, 8, 1, 2, 6, 7, 4, 5, 1, 3, 7, 6, 9, 7, 8, 5, 8, 5, 8, 5, 6, 5, 0, 8, 6, 8, 1, 8, 1, 5, 0, 9, 1, 3, 5, 6, 3, 2, 5, 7, 4, 7, 3, 3, 2, 4, 4, 5, 7, 5, 8, 5, 8, 3, 7, 4, 0, 5, 7, 3, 8, 2, 2, 5, 9, 4, 8, 8, 6, 0, 6, 1, 7, 0, 4, 3, 8, 5, 9, 7, 3, 4, 0, 0, 2, 3, 5, 6, 7, 1, 6, 2, 8, 3, 4, 2, 5, 7, 5, 7, 7, 1, 7, 4, 5, 3, 4, 3, 4, 3, 7, 0, 5, 3, 6, 6, 2, 5, 0, 6, 0, 3, 1, 2, 9, 0, 0, 1, 5, 5, 1, 6, 7, 8, 4, 6, 3, 3, 6, 0, 9, 9, 2, 2, 6, 1, 4, 6, 2, 5, 7, 0, 8, 3, 6, 3, 5, 2, 5, 4, 4, 4, 8, 9, 2, 6, 0, 9, 7, 9, 8, 7, 7, 3, 8, 6, 9, 3, 5, 7, 5, 8, 7, 6, 7, 8, 7, 9, 6, 2, 4, 1, 0, 2, 9, 8, 2, 8, 0, 7, 5, 6, 0, 1, 2, 9, 6, 1, 0, 1, 0, 6, 5, 3, 5, 7, 3, 4, 8, 3, 5, 3, 7, 2, 5, 8, 3, 5, 7, 2, 7, 2, 5, 4, 5, 6, 9, 3, 5, 9, 8, 3, 4, 2, 2, 6, 7, 6, 0, 5, 5, 8, 4, 5, 6, 1, 6, 5, 4, 7, 5, 0, 7, 2, 0, 1, 2, 4, 9, 6, 4, 5, 9, 7, 7, 6, 7, 4, 3, 1, 6, 9, 4, 8, 0, 6, 1, 6, 4, 4, 3, 1, 4, 6, 5, 8, 8, 9, 7, 6, 9, 4, 8, 1, 3, 6, 9, 5, 7, 1, 4, 5, 2, 1, 3, 6, 4, 7, 1, 5, 9, 2, 1, 4, 8, 7, 7, 0, 2, 3, 4, 6, 7, 5, 2, 4, 3, 4, 7, 6, 6, 1, 9, 9, 2, 9, 4, 3, 2, 9, 4, 5, 0, 6, 9, 0, 9, 7, 8, 0, 4, 4, 9, 4, 6, 6, 6, 3, 9, 7, 9, 9, 0, 5, 1, 1, 0, 6, 9, 9, 5, 6, 5, 5, 9, 7, 9, 4, 5, 2, 3, 2, 9, 8, 0, 5, 7, 8, 4, 0, 2, 0, 7, 2, 8, 9, 2, 0, 7, 4, 0, 6, 2, 3, 6, 7, 4, 6, 4, 0, 6, 9, 5, 6, 6, 3, 0, 3, 2, 6, 3, 3, 8, 0, 8, 5, 4, 2, 9, 3, 0, 5, 4, 8, 7, 8, 6, 5, 4, 8, 2, 0, 1, 8, 2, 4, 8, 4, 2, 0, 4, 0, 1, 9, 3, 0, 3, 4, 5, 5, 2, 8, 3, 0, 9, 7, 5, 3, 4, 6, 4, 0, 2, 3, 1, 0, 0, 0, 1, 2, 1, 4, 6, 7, 1, 0, 5, 2, 5, 9, 2, 5, 6, 7, 1, 9, 3, 6, 1, 0, 2, 9, 4, 2, 9, 0, 8, 2, 9, 8, 5, 1, 0, 1, 5, 2, 3, 6, 8, 8, 3, 5, 0, 4, 8, 3, 4, 0, 8, 3, 5, 2, 0, 9, 9, 8, 3, 9, 5, 2, 9, 9, 4, 7, 1, 3, 6, 4, 4, 8, 9, 0, 7, 1, 2, 4, 0, 6, 7, 5, 1, 3, 3, 5, 2, 4, 1, 1, 5, 3, 9, 2, 5, 8, 0, 8, 1, 5, 1, 3, 9, 0, 9, 2, 3, 0, 6, 9, 1, 1, 3, 4, 9, 5, 3, 6, 2, 3, 6, 1, 5, 9, 8, 7, 6, 8, 7, 6, 5, 2, 5, 8, 6, 7, 2, 0, 0, 7, 5, 3, 5, 7, 4, 6, 2, 8, 2, 7, 5, 6, 1, 5, 8, 6, 2, 0, 4, 2, 8, 6, 4, 0, 2, 5, 4, 9, 2, 5, 4, 6, 9, 3, 0, 5, 2, 0, 8, 2, 2, 4, 7, 9, 5, 7, 2, 6, 5, 1, 9, 9, 7, 2, 5, 1, 8, 1, 6, 5, 7, 8, 5, 5, 6, 9, 9, 9, 6, 3, 0, 8, 8, 5, 3, 3, 1, 1, 0, 7, 0, 3, 0, 4, 4, 6, 5, 3, 2, 9, 6, 6, 7, 9, 7, 7, 0, 8, 7, 2, 7, 7, 9, 4, 0, 1, 6, 0, 5, 3, 0, 2, 4, 9, 7, 3, 3, 2, 8, 8, 5, 3, 8, 0, 8, 4, 0, 0, 2, 2, 9, 0, 7, 7, 7, 3, 2, 0, 4, 0, 3, 7, 8, 4, 7, 9, 5, 1, 1, 6, 9, 3, 8, 9, 5, 8, 5, 1, 5, 2, 7, 5, 5, 2, 5, 5, 7, 9, 6, 2, 0, 8, 6, 5, 6, 1, 0, 6, 8, 4, 7, 1, 7, 2, 0, 9, 1, 8, 8, 6, 8, 1, 7, 1, 0, 1, 7, 6, 5, 4, 8, 2, 1, 2, 6, 8, 1, 1, 8, 8, 0, 9, 8, 0, 5, 4, 3, 5, 6, 2, 5, 1, 2, 4, 7, 8, 0, 1, 5, 8, 4, 6, 2, 2, 2, 6, 3, 4, 0, 8, 1, 3, 5, 3, 8, 9, 1, 6, 1, 9, 8, 2, 0, 4, 7, 4, 0, 0, 7, 6, 8, 9, 1, 6, 2, 8, 8, 0, 1, 1, 0, 7, 3, 2, 4, 7, 9, 2, 6, 6, 7, 4, 5, 5, 0, 9, 4, 7, 2, 5, 3, 2, 3, 7, 6, 2, 6, 4, 9, 6, 8, 3, 8, 5, 5, 6, 3, 4, 5, 3, 7, 7, 1, 5, 5, 7, 8, 8, 9, 5, 0, 0, 2, 6, 0, 6, 1, 4, 1, 3, 5, 1, 8, 9, 6, 4, 6, 9, 5, 6, 5, 9, 1, 4, 2, 8, 9, 5, 4, 7, 8, 3, 3, 1, 6, 9, 3, 9, 4, 0, 5, 1, 6, 3, 0, 2, 7, 6, 5, 2, 0, 2, 3, 1, 6, 2, 7, 0, 8, 9, 2, 6, 3, 7, 5, 5, 8, 8, 5, 8, 5, 7, 4, 4, 0, 0, 7, 0, 4, 0, 4, 4, 2, 5, 4, 0, 7, 7, 7, 0, 4, 6, 2, 7, 1, 1, 3, 0, 9, 1, 0, 6, 5, 3, 0, 9, 0, 6, 3, 2, 4, 1, 5, 7, 6, 1, 0, 5, 6, 0, 4, 5, 2, 5, 6, 4, 3, 5, 9, 4, 5, 2, 0, 5, 5, 2, 3, 9, 4, 5, 0, 1, 9, 3, 2, 8, 5, 8, 6, 6, 3, 4, 0, 6, 3, 2, 6, 1, 8, 6, 9, 3, 3, 3, 2, 3, 3, 5, 0, 2, 1, 2, 8, 0, 8, 2, 6, 7, 5, 5, 9, 8, 3, 6, 1, 6, 8, 6, 4, 5, 8, 9, 4, 0, 0, 0, 2, 0, 1, 8, 3, 7, 5, 8, 0, 9, 3, 8, 9, 6, 8, 9, 5, 4, 8, 9, 5, 5, 7, 3, 3, 8, 8, 1, 3, 2, 1, 5, 0, 2, 6, 2, 8, 2, 6, 8, 7, 3, 5, 6, 9, 6, 2, 5, 1, 1, 3, 7, 3, 5, 8, 9, 6, 0, 8, 0, 6, 6, 4, 6, 9, 1, 1, 7, 0, 6, 8, 9, 0, 6, 9, 0, 1, 1, 7, 6, 1, 0, 2, 5, 0, 3, 6, 5, 3, 8, 1, 8, 1, 6, 1, 5, 7, 5, 1, 6, 9, 9, 0, 1, 7, 2, 9, 8, 9, 2, 6, 0, 9, 5, 0, 4, 6, 3, 1, 1, 2, 8, 5, 6, 0, 3, 6, 6, 9, 3, 5, 9, 0, 3, 6, 5, 3, 0, 5, 1, 2, 2, 9, 7, 0, 0, 1, 6, 4, 5, 5, 9, 6, 3, 6, 2, 6, 8, 5, 7, 3, 7, 4, 7, 5, 2, 1, 6, 6, 4, 7, 6, 3, 3, 8, 1, 4, 6, 4, 4, 5, 6, 6, 0, 6, 2, 7, 5, 2, 5, 2, 5, 9, 3, 6, 7, 9, 8, 3, 2, 1, 2, 3, 4, 5, 5, 6, 8, 6, 0, 8, 9, 8, 0, 7, 7, 6, 6, 0, 5, 9, 8, 4, 1, 5, 6, 0, 4, 8, 6, 0, 9, 1, 5, 9, 8, 3, 7, 4, 4, 8, 2, 1, 9, 1, 8, 2, 8, 4, 7, 3, 1, 4, 3, 4, 1, 0, 3, 8, 8, 8, 1, 6, 7, 2, 8, 6, 9, 1, 6, 0, 7, 7, 1, 3, 3, 5, 1, 0, 2, 7, 1, 2, 2, 9, 6, 3, 5, 9, 4, 8, 0, 4, 8, 0, 9, 3, 5, 0, 4, 0, 4, 8, 6, 4, 3, 9, 8, 2, 2, 8, 3, 1, 1, 0, 8, 2, 6, 9, 6, 8, 4, 6, 1, 5, 2, 6, 9, 0, 0, 7, 1, 8, 9, 3, 9, 9, 0, 7, 7, 3, 7, 2, 6, 4, 5, 7, 5, 8, 7, 3, 6, 2, 2, 4, 4, 0, 7, 1, 5, 3, 6, 0, 0, 5, 3, 8, 6, 2, 4, 5, 5, 0, 9, 1, 0, 0, 3, 5, 7, 7, 9, 9, 6, 5, 5, 0, 5, 3, 1, 6, 6, 6, 1, 2, 4, 1, 5, 9, 0, 4, 5, 8, 4, 8, 5, 0, 5, 0, 5, 3, 1, 6, 7, 0, 9, 1, 5, 7, 6, 5, 5, 5, 6, 0, 0, 1, 7, 3, 1, 9, 2, 4, 1, 3, 7, 6, 0, 0, 9, 6, 6, 8, 5, 5, 8, 2, 7, 7, 0, 2, 7, 7, 8, 8, 7, 0, 4, 9, 1, 4, 4, 5, 7, 4, 6, 2, 3, 1, 0, 3, 3, 3, 6, 5, 1, 2, 0, 0, 7, 9, 3, 8, 7, 5, 1, 7, 7, 3, 3, 2, 8, 9, 5, 9, 2, 9, 7, 2, 4, 0, 5, 7, 1, 5, 4, 0, 8, 4, 9, 8, 7, 8, 4, 2, 3, 4, 0, 5, 2, 1, 8, 2, 5, 4, 5, 2, 3, 3, 7, 9, 7, 1, 4, 9, 3, 1, 6, 5, 5, 1, 7, 1, 3, 0, 1, 2, 5, 7, 0, 6, 3, 5, 7, 5, 5, 8, 9, 4, 6, 5, 6, 6, 8, 2, 6, 4, 8, 4, 1, 5, 9, 2, 3, 9, 0, 1, 6, 4, 2, 8, 2, 4, 3, 1, 4, 4, 4, 4, 1, 5, 5, 7, 6, 5, 4, 5, 6, 5, 6, 2, 4, 7, 7, 4, 6, 5, 0, 2, 3, 9, 1, 3, 8, 0, 7, 2, 6, 8, 1, 2, 8, 1, 1, 5, 4, 2, 5, 5, 5, 3, 6, 5, 2, 3, 7, 1, 6, 5, 7, 7, 4, 0, 4, 5, 9, 5, 1, 7, 6, 6, 4, 8, 5, 1, 5, 8, 6, 3, 3, 5, 3, 0, 2, 8, 7, 3, 9, 5, 8, 4, 5, 9, 1, 0, 2, 1, 3, 8, 0, 6, 5, 4, 6, 9, 2, 7, 2, 0, 3, 2, 9, 7, 5, 0, 7, 0, 3, 5, 3, 3, 8, 7, 3, 1, 6, 6, 0, 9, 6, 1, 1, 4, 0, 0, 9, 7, 2, 5, 8, 5, 9, 8, 2, 8, 0, 6, 6, 8, 6, 9, 3, 1, 1, 5, 5, 5, 0, 7, 6, 1, 4, 4, 1, 1, 8, 1, 1, 2, 3, 4, 9, 9, 3, 2, 7, 4, 3, 6, 1, 6, 9, 8, 8, 6, 7, 4, 7, 2, 5, 8, 0, 9, 0, 7, 8, 1, 2, 3, 2, 4, 2, 9, 0, 5, 8, 1, 6, 5, 5, 2, 4, 1, 0, 6, 1, 3, 4, 5, 5, 5, 0, 8, 9, 0, 2, 7, 9, 6, 5, 4, 6, 4, 9, 7, 1, 2, 2, 2, 8, 0, 7, 4, 9, 8, 1, 9, 7, 7, 6, 1, 6, 1, 1, 3, 8, 8, 1, 9, 3, 8, 9, 5, 1, 1, 6, 5, 5, 2, 6, 4, 6, 9, 6, 0, 1, 3, 9, 5, 3, 8, 8, 2, 9, 1, 6, 6, 0, 5, 0, 7, 7, 7, 9, 4, 5, 0, 8, 3, 5, 5, 8, 9, 1, 2, 7, 1, 3, 3, 6, 9, 1, 5, 7, 1, 9, 5, 8, 1, 9, 8, 7, 9, 8, 3, 0, 2, 6, 9, 2, 2, 4, 0, 8, 3, 8, 1, 5, 7, 2, 4, 9, 5, 2, 2, 9, 2, 6, 5, 4, 6, 5, 6, 5, 9, 8, 2, 6, 8, 6, 5, 0, 8, 0, 0, 1, 9, 6, 8, 0, 6, 6, 0, 7, 9, 8, 0, 7, 0, 9, 6, 0, 4, 7, 1, 7, 8, 8, 4, 6, 9, 4, 5, 5, 3, 1, 5, 5, 0, 2, 5, 2, 7, 3, 8, 4, 4, 6, 1, 9, 5, 1, 7, 0, 1, 3, 3, 0, 2, 9, 4, 5, 0, 3, 8, 7, 2, 3, 0, 1, 6, 7, 9, 9, 0, 7, 5, 6, 7, 1, 2, 3, 7, 5, 6, 8, 4, 9, 8, 7, 9, 2, 3, 4, 0, 2, 5, 6, 3, 7, 8, 5, 8, 5, 6, 4, 9, 5, 6, 3, 8, 6, 1, 8, 5, 5, 8, 6, 5, 9, 0, 4, 2, 0, 5, 9, 1, 3, 8, 0, 6, 0, 4, 3, 7, 0, 4, 6, 9, 1, 5, 0, 6, 7, 9, 3, 1, 5, 5, 2, 2, 2, 8, 8, 5, 0, 0, 7, 0, 4, 1, 6, 5, 0, 9, 2, 6, 7, 2, 2, 0, 0, 7, 2, 3, 2, 6, 6, 2, 7, 8, 0, 1, 0, 1, 3, 6, 4, 8, 0, 6, 0, 9, 1, 6, 2, 1, 0, 1, 3, 0, 4, 7, 9, 9, 3, 7, 5, 7, 1, 6, 6, 9, 1, 1, 4, 2, 2, 1, 7, 0, 1, 2, 1, 1, 3, 4, 6, 9, 8, 3, 2, 5, 8, 7, 3, 5, 6, 2, 6, 9, 4, 8, 9, 5, 0, 5, 7, 2, 0, 2, 1, 0, 3, 8, 7, 1, 1, 2, 2, 2, 2, 9, 1, 2, 6, 1, 2, 1, 8, 9, 2, 2, 1, 9, 9, 3, 4, 3, 5, 3, 3, 5, 7, 1, 7, 7, 7, 8, 1, 5, 5, 6, 1, 6, 2, 7, 8, 4, 3, 3, 5, 9, 6, 8, 5, 1, 0, 6, 5, 0, 9, 6, 2, 0, 8, 7, 1, 2, 6, 9, 1, 6, 5, 7, 1, 7, 0, 0, 6, 2, 8, 3, 8, 2, 0, 4, 0, 8, 3, 3, 1, 2, 3, 0, 6, 0, 4, 1, 7, 2, 0, 1, 3, 9, 1, 6, 1, 6, 1, 2, 3, 7, 0, 9, 5, 3, 0, 2, 1, 7, 9, 7, 1, 9, 2, 1, 9, 7, 3, 6, 0, 2, 0, 0, 9, 0, 8, 9, 2, 5, 3, 3, 0, 7, 8, 7, 5, 7, 3, 4, 6, 5, 9, 5, 2, 3, 3, 7, 9, 6, 7, 4, 7, 1, 2, 3, 1, 9, 3, 6, 8, 3, 7, 7, 0, 8, 1, 5, 2, 6, 3, 6, 6, 3, 3, 9, 8, 4, 6, 8, 0, 3, 9, 7, 8, 4, 0, 3, 2, 6, 3, 8, 8, 6, 7, 3, 8, 8, 1, 5, 3, 7, 9, 9, 9, 8, 5, 9, 9, 6, 8, 8, 4, 8, 1, 0, 1, 8, 8, 6, 5, 9, 0, 6, 1, 2, 6, 6, 3, 5, 6, 5, 5, 3, 3, 6, 9, 1, 4, 4, 3, 8, 5, 6, 0, 8, 5, 7, 8, 4, 6, 5, 3, 1, 8, 3, 0, 4, 7, 0, 3, 5, 3, 3, 2, 7, 7, 8, 4, 0, 5, 6, 6, 1, 1, 3, 9, 9, 3, 9, 7, 8, 8, 3, 9, 5, 7, 8, 6, 0, 3, 2, 6, 1, 7, 3, 7, 1, 8, 7, 3, 5, 4, 4, 5, 0, 6, 1, 1, 6, 3, 2, 2, 8, 9, 8, 3, 3, 8, 1, 1, 0, 5, 2, 0, 5, 0, 5, 0, 6, 3, 9, 6, 6, 5, 8, 4, 8, 5, 4, 5, 1, 7, 2, 9, 7, 8, 5, 5, 8, 6, 9, 0, 8, 5, 3, 1, 2, 3, 5, 5, 3, 8, 1, 4, 6, 4, 2, 4, 3, 8, 9, 6, 3, 6, 5, 3, 2, 7, 7, 4, 4, 9, 5, 0, 5, 7, 7, 8, 5, 5, 9, 1, 6, 5, 3, 3, 3, 8, 5, 5, 1, 3, 7, 9, 6, 1, 3, 4, 7, 0, 5, 7, 4, 9, 1, 6, 0, 2, 7, 8, 3, 5, 7, 6, 1, 6, 6, 4, 6, 2, 1, 8, 4, 3, 3, 8, 3, 8, 9, 4, 3, 2, 2, 9, 3, 0, 1, 1, 9, 1, 6, 8, 5, 1, 3, 2, 4, 6, 0, 5, 0, 6, 4, 0, 9, 8, 6, 8, 3, 8, 2, 9, 6, 0, 6, 1, 8, 7, 6, 2, 2, 6, 5, 6, 9, 2, 3, 4, 9, 8, 5, 6, 9, 3, 5, 7, 1, 8, 5, 8, 6, 2, 5, 1, 3, 0, 2, 1, 6, 4, 4, 9, 2, 1, 7, 4, 5, 9, 8, 7, 2, 1, 6, 7, 7, 3, 6, 1, 8, 8, 2, 2, 4, 9, 4, 5, 5, 4, 2, 6, 1, 0, 7, 0, 4, 2, 1, 1, 5, 7, 9, 2, 5, 1, 0, 4, 1, 9, 4, 8, 1, 1, 1, 5, 9, 0, 1, 6, 7, 2, 9, 9, 7, 8, 8, 1, 3, 7, 8, 0, 1, 6, 6, 3, 7, 1, 3, 0, 8, 8, 3, 6, 6, 5, 9, 0, 7, 6, 4, 8, 6, 0, 6, 3, 0, 3, 6, 9, 1, 8, 6, 2, 0, 5, 4, 3, 2, 1, 7, 8, 2, 0, 1, 7, 4, 8, 7, 6, 1, 7, 0, 0, 4, 9, 0, 6, 5, 1, 5, 8, 6, 8, 1, 9, 6, 7, 6, 3, 0, 6, 0, 1, 3, 1, 1, 5, 2, 2, 3, 5, 8, 1, 6, 6, 1, 8, 8, 6, 2, 7, 4, 6, 8, 9, 3, 5, 3, 5, 5, 1, 4, 1, 9, 5, 1, 7, 7, 7, 5, 2, 8, 3, 3, 6, 6, 4, 0, 7, 1, 7, 6, 0, 5, 1, 2, 4, 1, 2, 2, 2, 9, 8, 2, 8, 7, 6, 3, 4, 7, 2, 3, 1, 5, 3, 8, 2, 3, 3, 9, 4, 6, 9, 1, 7, 8, 3, 1, 8, 3, 2, 3, 7, 2, 7, 9, 6, 8, 6, 8, 6, 5, 9, 0, 4, 8, 5, 4, 5, 3, 8, 0, 4, 8, 6, 7, 2, 4, 1, 7, 4, 1, 2, 4, 2, 2, 8, 7, 2, 0, 5, 7, 7, 6, 8, 9, 9, 5, 5, 2, 9, 9, 7, 2, 3, 3, 7, 4, 3, 2, 1, 9, 8, 1, 5, 3, 2, 6, 5, 9, 1, 3, 7, 3, 6, 2, 0, 7, 5, 8, 0, 8, 9, 1, 2, 5, 7, 2, 0, 6, 6, 1, 2, 3, 1, 5, 2, 3, 7, 4, 6, 5, 6, 4, 8, 3, 4, 5, 5, 0, 6, 6, 7, 3, 0, 9, 9, 6, 1, 0, 4, 6, 5, 3, 9, 2, 6, 6, 8, 2, 6, 0, 1, 9, 2, 7, 4, 3, 0, 2, 7, 6, 4, 3, 1, 8, 5, 3, 0, 9, 6, 6, 6, 8, 7, 4, 1, 8, 1, 2, 2, 4, 8, 5, 2, 6, 5, 3, 9, 1, 0, 7, 2, 4, 4, 0, 0, 6, 2, 2, 4, 0, 5, 9, 7, 1, 8, 7, 3, 5, 9, 0, 5, 7, 8, 0, 1, 8, 9, 1, 6, 2, 8, 0, 3, 5, 4, 8, 4, 8, 9, 8, 6, 0, 0, 8, 2, 7, 4, 2, 5, 6, 0, 5, 8, 2, 1, 9, 0, 1, 4, 7, 8, 4, 9, 6, 0, 7, 7, 6, 8, 9, 6, 2, 0, 4, 9, 2, 9, 3, 9, 6, 5, 7, 0, 8, 7, 1, 8, 6, 7, 6, 5, 7, 1, 9, 4, 6, 7, 9, 8, 5, 9, 2, 1, 2, 7, 6, 1, 0, 0, 5, 6, 0, 4, 3, 2, 8, 8, 0, 6, 7, 5, 2, 8, 7, 0, 6, 5, 9, 4, 2, 5, 6, 0, 6, 2, 2, 4, 1, 0, 5, 0, 8, 9, 4, 5, 9, 3, 8, 1, 6, 3, 7, 3, 6, 2, 0, 2, 8, 2, 8, 7, 7, 8, 1, 0, 8, 9, 7, 0, 5, 8, 0, 4, 9, 5, 8, 7, 2, 0, 9, 2, 2, 5, 4, 9, 2, 5, 5, 5, 1, 3, 2, 0, 0, 4, 0, 6, 3, 8, 0, 5, 8, 6, 4, 8, 5, 2, 9, 7, 9, 7, 1, 0, 1, 9, 6, 9, 2, 7, 9, 6, 4, 0, 6, 2, 4, 1, 3, 7, 3, 8, 5, 9, 0, 3, 3, 3, 2, 7, 6, 3, 2, 5, 9, 0, 5, 9, 1, 8, 7, 5, 4, 0, 6, 7, 2, 3, 1, 0, 4, 1, 8, 8, 4, 9, 4, 4, 5, 3, 9, 2, 0, 1, 8, 8, 3, 2, 8, 5, 6, 9, 5, 7, 6, 6, 5, 4, 7, 3, 3, 9, 0, 1, 5, 9, 5, 7, 6, 0, 4, 2, 2, 5, 6, 5, 8, 9, 5, 6, 1, 4, 5, 4, 6, 7, 2, 1, 0, 2, 0, 4, 9, 8, 4, 9, 1, 1, 5, 0, 0, 8, 7, 1, 7, 4, 5, 4, 3, 3, 2, 0, 6, 6, 0, 1, 3, 9, 8, 3, 7, 8, 8, 2, 8, 9, 0, 1, 7, 1, 6, 2, 9, 5, 6, 9, 2, 5, 8, 7, 7, 9, 6, 3, 3, 9, 3, 1, 4, 5, 1, 8, 2, 0, 9, 2, 9, 8, 8, 6, 7, 3, 7, 1, 0, 9, 8, 9, 5, 6, 7, 4, 5, 3, 0, 5, 9, 7, 5, 5, 0, 6, 3, 1, 8, 6, 7, 3, 9, 0, 0, 2, 8, 8, 7, 3, 7, 8, 9, 3, 7, 9, 7, 8, 7, 9, 8, 5, 4, 2, 7, 7, 6, 5, 8, 2, 1, 9, 3, 5, 5, 1, 5, 5, 8, 7, 3, 5, 3, 5, 9, 7, 6, 7, 3, 6, 4, 5, 9, 4, 2, 1, 9, 6, 0, 2, 6, 7, 4, 7, 9, 0, 7, 4, 5, 5, 3, 1, 1, 6, 6, 8, 2, 1, 5, 8, 5, 0, 6, 1, 8, 4, 0, 6, 0, 9, 2, 6, 0, 8, 9, 2, 5, 6, 2, 9, 3, 4, 7, 0, 7, 1, 7, 5, 5, 4, 9, 7, 3, 2, 9, 9, 4, 3, 2, 1, 3, 8, 7, 9, 0, 4, 5, 7, 5, 2, 8, 7, 6, 9, 6, 7, 3, 8, 5, 6, 6, 9, 5, 7, 8, 0, 5, 1, 7, 4, 8, 5, 5, 1, 5, 2, 2, 6, 2, 1, 5, 2, 6, 5, 1, 3, 7, 3, 6, 3, 7, 0, 8, 4, 4, 5, 7, 5, 5, 4, 3, 9, 6, 8, 0, 3, 6, 1, 6, 1, 7, 2, 3, 4, 2, 9, 4, 2, 8, 7, 5, 0, 9, 6, 8, 0, 8, 2, 8, 5, 7, 7, 2, 2, 0, 0, 0, 7, 4, 1, 6, 6, 1, 8, 9, 0, 9, 5, 1, 3, 6, 0, 9, 2, 6, 4, 6, 3, 2, 0, 8, 4, 1, 2, 0, 7, 2, 0, 9, 9, 9, 9, 1, 2, 5, 5, 4, 2, 9, 3, 8, 9, 6, 6, 8, 0, 6, 1, 3, 6, 8, 0, 5, 4, 1, 2, 0, 9, 6, 4, 6, 4, 6, 0, 9, 7, 7, 6, 6, 2, 0, 0, 9, 0, 3, 2, 9, 0, 9, 7, 8, 6, 7, 6, 8, 2, 4, 5, 3, 0, 3, 6, 1, 7, 5, 9, 6, 2, 5, 3, 1, 5, 0, 1, 1, 5, 9, 7, 5, 4, 9, 7, 8, 1, 0, 2, 8, 5, 6, 7, 0, 6, 4, 8, 4, 4, 6, 6, 0, 8, 1, 8, 4, 6, 7, 9, 2, 2, 1, 4, 9, 1, 6, 7, 2, 0, 1, 7, 6, 3, 2, 2, 5, 6, 0, 0, 0, 1, 5, 2, 3, 5, 8, 7, 5, 6, 5, 8, 0, 3, 9, 4, 6, 5, 1, 1, 0, 5, 3, 9, 4, 8, 1, 7, 7, 9, 9, 4, 8, 6, 3, 2, 8, 3, 7, 6, 7, 0, 2, 1, 2, 9, 4, 6, 9, 3, 1, 0, 1, 8, 7, 0, 0, 4, 7, 4, 3, 6, 9, 5, 9, 9, 7, 4, 5, 8, 1, 4, 7, 9, 9, 8, 8, 6, 3, 7, 0, 8, 9, 6, 2, 2, 3, 6, 9, 7, 7, 6, 8, 3, 6, 1, 6, 5, 9, 9, 1, 3, 0, 0, 3, 0, 5, 8, 7, 5, 9, 3, 5, 7, 6, 5, 9, 5, 6, 1, 2, 4, 0, 2, 7, 8, 4, 4, 2, 9, 5, 9, 2, 9, 3, 2, 6, 3, 2, 2, 8, 8, 1, 0, 1, 6, 8, 6, 2, 5, 1, 5, 9, 1, 5, 7, 1, 6, 0, 1, 5, 2, 8, 1, 1, 3, 8, 1, 8, 1, 8, 5, 1, 9, 0, 5, 0, 4, 0, 5, 1, 2, 0, 4, 9, 5, 1, 2, 6, 7, 8, 7, 2, 4, 5, 3, 7, 0, 4, 1, 5, 9, 8, 0, 2, 0, 4, 6, 0, 6, 9, 7, 5, 1, 4, 6, 0, 6, 3, 6, 8, 1, 9, 0, 9, 7, 2, 9, 0, 2, 2, 9, 0, 6, 2, 5, 7, 9, 1, 7, 9, 8, 4, 5, 0, 8, 0, 2, 5, 2, 8, 4, 4, 8, 9, 7, 8, 6, 6, 6, 0, 1, 1, 1, 8, 1, 4, 2, 0, 7, 8, 2, 1, 2, 7, 6, 6, 0, 5, 7, 4, 4, 5, 9, 5, 8, 8, 0, 8, 7, 4, 1, 8, 4, 9, 5, 4, 1, 7, 8, 7, 7, 0, 3, 8, 6, 3, 0, 5, 5, 0, 8, 2, 0, 9, 3, 0, 3, 4, 8, 2, 2, 6, 6, 5, 6, 2, 9, 4, 0, 1, 7, 5, 5, 7, 3, 0, 4, 6, 1, 7, 5, 8, 0, 8, 4, 7, 0, 3, 3, 3, 8, 3, 5, 1, 7]\n"
          ]
        }
      ]
    },
    {
      "cell_type": "code",
      "source": [
        "path_on_drive = '/content/drive/My Drive/diploma/resnet18_1.pth'  # Замініть шлях на вашу папку на Google Drive\n",
        "torch.save(resnet18_1.state_dict(), path_on_drive)\n",
        "path_on_drive = '/content/drive/My Drive/diploma/resnet18_2.pth'  # Замініть шлях на вашу папку на Google Drive\n",
        "torch.save(resnet18_2.state_dict(), path_on_drive)\n",
        "path_on_drive = '/content/drive/My Drive/diploma/resnet18_3.pth'  # Замініть шлях на вашу папку на Google Drive\n",
        "torch.save(resnet18_3.state_dict(), path_on_drive)"
      ],
      "metadata": {
        "id": "G-7YPUJMkk86"
      },
      "execution_count": null,
      "outputs": []
    },
    {
      "cell_type": "code",
      "source": [
        "import matplotlib.pyplot as plt\n",
        "import numpy as np\n",
        "import torchvision\n",
        "\n",
        "# Функція для перетворення тензора у зображення\n",
        "def imshow(img):\n",
        "    img = img / 2 + 0.5     # денормалізація\n",
        "    npimg = img.numpy()\n",
        "    plt.imshow(np.transpose(npimg, (1, 2, 0)))\n",
        "    plt.show()\n",
        "\n",
        "# Отримання декількох зображень\n",
        "dataiter = iter(test_loader)\n",
        "images, labels = next(dataiter)\n",
        "\n",
        "# Показ зображень\n",
        "imshow(torchvision.utils.make_grid(images))\n",
        "\n",
        "# Вивід міток\n",
        "print('Labels: ', ' '.join(f'{labels[j].item()}' for j in range(batch_size)))\n"
      ],
      "metadata": {
        "colab": {
          "base_uri": "https://localhost:8080/",
          "height": 452
        },
        "id": "3gtiItopwE-t",
        "outputId": "ca8b34bb-606e-4186-8ec1-784c03589c66"
      },
      "execution_count": null,
      "outputs": [
        {
          "output_type": "display_data",
          "data": {
            "text/plain": [
              "<Figure size 640x480 with 1 Axes>"
            ],
            "image/png": "[encoded data removed]"
          },
          "metadata": {}
        },
        {
          "output_type": "stream",
          "name": "stdout",
          "text": [
            "Labels:  3\n"
          ]
        }
      ]
    },
    {
      "cell_type": "code",
      "source": [
        "fi_resnet18_1 = pytorchfi.core.fault_injection(\n",
        "    model=resnet18_1,\n",
        "    batch_size=1,  # розмір пакету\n",
        "    layer_types=[torch.nn.Conv2d],  # Типи шарів, до яких застосовуються помилки\n",
        ")\n",
        "fi_resnet18_2 = pytorchfi.core.fault_injection(\n",
        "    model=resnet18_2,\n",
        "    batch_size=1,  # розмір пакету\n",
        "    layer_types=[torch.nn.Conv2d],  # Типи шарів, до яких застосовуються помилки\n",
        ")\n",
        "fi_resnet18_3 = pytorchfi.core.fault_injection(\n",
        "    model=resnet18_3,\n",
        "    batch_size=1,  # розмір пакету\n",
        "    layer_types=[torch.nn.Conv2d],  # Типи шарів, до яких застосовуються помилки\n",
        ")\n",
        "corrupt_resnet18_1 =  random_weight_inj(\n",
        "            fi_resnet18_1, corrupt_layer=3, min_val=20, max_val=30\n",
        "        )\n",
        "\n",
        "corrupt_resnet18_2 =  random_weight_inj(\n",
        "            fi_resnet18_2, corrupt_layer=3, min_val=20, max_val=30\n",
        "        )\n",
        "\n",
        "corrupt_resnet18_3 =  random_weight_inj(\n",
        "            fi_resnet18_3, corrupt_layer=3, min_val=20, max_val=30\n",
        "        )\n",
        "\n",
        "predictions_resnet18_1 = get_predictions(corrupt_resnet18_1, test_loader, device)\n",
        "predictions_resnet18_2 = get_predictions(corrupt_resnet18_2, test_loader, device)\n",
        "predictions_resnet18_3 = get_predictions(corrupt_resnet18_3, test_loader, device)\n",
        "\n",
        "predictions2 = [predictions_resnet18_1, predictions_resnet18_2, predictions_resnet18_3]\n",
        "final_predictions2 = vote(predictions2)\n",
        "print(final_predictions2)"
      ],
      "metadata": {
        "colab": {
          "base_uri": "https://localhost:8080/"
        },
        "id": "uOlcpPqBwn3-",
        "outputId": "417614e0-7bf3-4c81-8f98-b9cceb8fba0d"
      },
      "execution_count": null,
      "outputs": [
        {
          "output_type": "stream",
          "name": "stdout",
          "text": [
            "3\n"
          ]
        }
      ]
    },
    {
      "cell_type": "code",
      "source": [
        "fi_resnet18_1 = pytorchfi.core.fault_injection(\n",
        "    model=resnet18_1,\n",
        "    batch_size=1,  # розмір пакету\n",
        "    layer_types=[torch.nn.Conv2d],  # Типи шарів, до яких застосовуються помилки\n",
        ")\n",
        "fi_resnet18_2 = pytorchfi.core.fault_injection(\n",
        "    model=resnet18_2,\n",
        "    batch_size=1,  # розмір пакету\n",
        "    layer_types=[torch.nn.Conv2d],  # Типи шарів, до яких застосовуються помилки\n",
        ")\n",
        "fi_resnet18_3 = pytorchfi.core.fault_injection(\n",
        "    model=resnet18_3,\n",
        "    batch_size=1,  # розмір пакету\n",
        "    layer_types=[torch.nn.Conv2d],  # Типи шарів, до яких застосовуються помилки\n",
        ")\n",
        "corrupt_resnet18_1 =  random_weight_inj(\n",
        "            fi_resnet18_1,  min_val=10, max_val=30\n",
        "        )\n",
        "\n",
        "corrupt_resnet18_2 =  random_weight_inj(\n",
        "            fi_resnet18_2,  min_val=10, max_val=30\n",
        "        )\n",
        "\n",
        "corrupt_resnet18_3 =  random_weight_inj(\n",
        "            fi_resnet18_3,  min_val=10, max_val=30\n",
        "        )\n",
        "\n",
        "predictions_resnet18_1 = get_predictions(corrupt_resnet18_1, test_loader, device)\n",
        "predictions_resnet18_2 = get_predictions(corrupt_resnet18_2, test_loader, device)\n",
        "predictions_resnet18_3 = get_predictions(corrupt_resnet18_3, test_loader, device)\n",
        "\n",
        "predictions2 = [predictions_resnet18_1, predictions_resnet18_2, predictions_resnet18_3]\n",
        "final_predictions2 = vote(predictions2)\n",
        "print(final_predictions2)"
      ],
      "metadata": {
        "colab": {
          "base_uri": "https://localhost:8080/"
        },
        "id": "AVYkH34Y2Y0c",
        "outputId": "446aa00d-992c-4021-b19d-a8c8b9026cc6"
      },
      "execution_count": null,
      "outputs": [
        {
          "output_type": "stream",
          "name": "stdout",
          "text": [
            "3\n"
          ]
        }
      ]
    },
    {
      "cell_type": "code",
      "source": [
        "ensemble_resnet18_corrupt = [corrupt_resnet18_1, corrupt_resnet18_2,corrupt_resnet18_3]"
      ],
      "metadata": {
        "id": "K-ICr8m0w2B7"
      },
      "execution_count": null,
      "outputs": []
    },
    {
      "cell_type": "code",
      "source": [
        "ensemble_resnet18 = [resnet18_1, resnet18_2,resnet18_3]"
      ],
      "metadata": {
        "id": "itXPCoT8UkVu"
      },
      "execution_count": null,
      "outputs": []
    },
    {
      "cell_type": "code",
      "source": [
        "accuracy = evaluate_ensemble_accuracy(ensemble_resnet18, test_loader, device)\n",
        "print(f'Ensemble Accuracy: {accuracy}%')\n",
        "\n",
        "accuracy_inject = evaluate_ensemble_accuracy(ensemble_resnet18_corrupt, test_loader, device)\n",
        "print(f'Ensemble Accuracy: {accuracy_inject}%')\n",
        "\n",
        "R = 1 - (accuracy-accuracy_inject)/accuracy\n",
        "print(R)"
      ],
      "metadata": {
        "colab": {
          "base_uri": "https://localhost:8080/"
        },
        "id": "GYc0hPfbww18",
        "outputId": "a15a28cc-d2e7-425a-d8b3-d0d9aed9cdac"
      },
      "execution_count": null,
      "outputs": [
        {
          "output_type": "stream",
          "name": "stdout",
          "text": [
            "Ensemble Accuracy: 85.94%\n",
            "Ensemble Accuracy: 75.65%\n",
            "0.880265301373051\n"
          ]
        }
      ]
    },
    {
      "cell_type": "code",
      "source": [
        "fi_resnet18_1 = pytorchfi.core.fault_injection(\n",
        "    model=resnet18_1,\n",
        "    batch_size=1,  # розмір пакету\n",
        "    layer_types=[torch.nn.Conv2d],  # Типи шарів, до яких застосовуються помилки\n",
        ")\n",
        "fi_resnet18_2 = pytorchfi.core.fault_injection(\n",
        "    model=resnet18_2,\n",
        "    batch_size=1,  # розмір пакету\n",
        "    layer_types=[torch.nn.Conv2d],  # Типи шарів, до яких застосовуються помилки\n",
        ")\n",
        "fi_resnet18_3 = pytorchfi.core.fault_injection(\n",
        "    model=resnet18_3,\n",
        "    batch_size=1,  # розмір пакету\n",
        "    layer_types=[torch.nn.Conv2d],  # Типи шарів, до яких застосовуються помилки\n",
        ")\n",
        "corrupt_resnet18_1 =  zero_func_rand_weight(\n",
        "            fi_resnet18_1\n",
        "        )\n",
        "\n",
        "corrupt_resnet18_2 =  zero_func_rand_weight(\n",
        "            fi_resnet18_2\n",
        "        )\n",
        "\n",
        "corrupt_resnet18_3 =  zero_func_rand_weight(\n",
        "            fi_resnet18_3\n",
        "        )\n",
        "\n",
        "predictions_resnet18_1 = get_predictions(corrupt_resnet18_1, test_loader, device)\n",
        "predictions_resnet18_2 = get_predictions(corrupt_resnet18_2, test_loader, device)\n",
        "predictions_resnet18_3 = get_predictions(corrupt_resnet18_3, test_loader, device)\n",
        "\n",
        "predictions2 = [predictions_resnet18_1, predictions_resnet18_2, predictions_resnet18_3]\n",
        "final_predictions2 = vote(predictions2)\n",
        "print(final_predictions2)"
      ],
      "metadata": {
        "id": "Euztvf4QUkRX",
        "colab": {
          "base_uri": "https://localhost:8080/"
        },
        "outputId": "90bbdc47-da3a-461e-f186-a9bd40700304"
      },
      "execution_count": null,
      "outputs": [
        {
          "output_type": "stream",
          "name": "stdout",
          "text": [
            "3\n"
          ]
        }
      ]
    },
    {
      "cell_type": "code",
      "source": [
        "ensemble_resnet18_corrupt = [corrupt_resnet18_1,corrupt_resnet18_2,corrupt_resnet18_3]"
      ],
      "metadata": {
        "id": "NU5GtE1EVYXo"
      },
      "execution_count": null,
      "outputs": []
    },
    {
      "cell_type": "code",
      "source": [
        "#ZEROS\n",
        "accuracy = evaluate_ensemble_accuracy(ensemble_resnet18, test_loader, device)\n",
        "print(f'Ensemble Accuracy: {accuracy}%')\n",
        "\n",
        "accuracy_inject = evaluate_ensemble_accuracy(ensemble_resnet18_corrupt, test_loader, device)\n",
        "print(f'Ensemble Accuracy: {accuracy_inject}%')\n",
        "\n",
        "R = 1 - (accuracy-accuracy_inject)/accuracy\n",
        "print(R)"
      ],
      "metadata": {
        "colab": {
          "base_uri": "https://localhost:8080/"
        },
        "id": "aIOFazDz5F9U",
        "outputId": "3064929b-20fc-4d3f-b8d5-9a742050f65f"
      },
      "execution_count": null,
      "outputs": [
        {
          "output_type": "stream",
          "name": "stdout",
          "text": [
            "Ensemble Accuracy: 85.65%\n",
            "Ensemble Accuracy: 85.76%\n",
            "1.0012842965557502\n"
          ]
        }
      ]
    },
    {
      "cell_type": "markdown",
      "source": [
        "# ResNet50"
      ],
      "metadata": {
        "id": "ec5oIwYey4Uj"
      }
    },
    {
      "cell_type": "code",
      "source": [
        "import torch\n",
        "import torchvision\n",
        "import torchvision.transforms as transforms\n",
        "import torchvision.models as models\n",
        "import torch.nn as nn\n",
        "import torch.optim as optim\n",
        "import torch.nn.functional as F\n",
        "\n",
        "# Передобробка та завантаження даних CIFAR10\n",
        "transform = transforms.Compose([\n",
        "    transforms.RandomHorizontalFlip(),  # Випадкове горизонтальне перевертання для аугментації\n",
        "    transforms.ToTensor(),\n",
        "    transforms.Normalize((0.5, 0.5, 0.5), (0.5, 0.5, 0.5))\n",
        "])\n",
        "\n",
        "train_set = torchvision.datasets.CIFAR10(root='./data', train=True, download=True, transform=transform)\n",
        "train_loader = torch.utils.data.DataLoader(train_set, batch_size=128, shuffle=True, num_workers=2)\n",
        "\n",
        "test_set = torchvision.datasets.CIFAR10(root='./data', train=False, download=True, transform=transform)\n",
        "test_loader = torch.utils.data.DataLoader(test_set, batch_size=128, shuffle=False, num_workers=2)\n",
        "\n",
        "# Визначення моделі ResNet50\n",
        "resnet50_1 = models.resnet50(pretrained=True)\n",
        "num_ftrs = resnet50_1.fc.in_features\n",
        "resnet50_1.fc = nn.Linear(num_ftrs, 10)  # CIFAR10 має 10 класів\n",
        "\n",
        "resnet50_2 = models.resnet50(pretrained=True)\n",
        "num_ftrs = resnet50_2.fc.in_features\n",
        "resnet50_2.fc = nn.Linear(num_ftrs, 10)  # CIFAR10 має 10 класів\n",
        "\n",
        "resnet50_3 = models.resnet50(pretrained=True)\n",
        "num_ftrs = resnet50_3.fc.in_features\n",
        "resnet50_3.fc = nn.Linear(num_ftrs, 10)  # CIFAR10 має 10 класів\n",
        "\n",
        "device = torch.device(\"cuda:0\" if torch.cuda.is_available() else \"cpu\")\n",
        "resnet50_1.to(device)\n",
        "resnet50_2.to(device)\n",
        "resnet50_3.to(device)\n",
        "# Визначення оптимізатора та функції втрат\n",
        "\n",
        "optimizer11 = optim.Adam(resnet50_1.parameters(), lr=0.001)\n",
        "optimizer12 = optim.Adam(resnet50_2.parameters(), lr=0.001)\n",
        "optimizer13 = optim.Adam(resnet50_3.parameters(), lr=0.001)\n",
        "criterion = nn.CrossEntropyLoss()\n",
        "\n",
        "# Функція для тренування моделі (аналогічна функції для ResNet18)\n",
        "def train_model(model, train_loader, criterion, optimizer, device, num_epochs=10):\n",
        "    model.to(device)\n",
        "    model.train()\n",
        "    for epoch in range(num_epochs):\n",
        "        correct_predictions = 0\n",
        "        total_predictions = 0\n",
        "\n",
        "        for inputs, labels in train_loader:\n",
        "            inputs, labels = inputs.to(device), labels.to(device)\n",
        "\n",
        "            optimizer.zero_grad()\n",
        "            outputs = model(inputs)\n",
        "            loss = criterion(outputs, labels)\n",
        "            loss.backward()\n",
        "            optimizer.step()\n",
        "\n",
        "            _, predicted = torch.max(outputs.data, 1)\n",
        "            total_predictions += labels.size(0)\n",
        "            correct_predictions += (predicted == labels).sum().item()\n",
        "\n",
        "        accuracy = 100 * correct_predictions / total_predictions\n",
        "        print(f'Epoch {epoch + 1}/{num_epochs}, Accuracy: {accuracy:.2f}%')\n",
        "\n",
        "    print('Finished Training')\n",
        "\n",
        "\n",
        "# Тренування моделі\n",
        "train_model(resnet50_1,train_loader,  criterion, optimizer11, device)\n",
        "train_model(resnet50_2, train_loader, criterion, optimizer12, device)\n",
        "train_model(resnet50_3, train_loader, criterion, optimizer13, device)"
      ],
      "metadata": {
        "colab": {
          "base_uri": "https://localhost:8080/"
        },
        "id": "RNJTTP2ozh9R",
        "outputId": "b7840da7-6e0d-4ed8-ab7e-dda49668a1e4"
      },
      "execution_count": null,
      "outputs": [
        {
          "output_type": "stream",
          "name": "stdout",
          "text": [
            "Files already downloaded and verified\n",
            "Files already downloaded and verified\n"
          ]
        },
        {
          "output_type": "stream",
          "name": "stderr",
          "text": [
            "/usr/local/lib/python3.10/dist-packages/torchvision/models/_utils.py:208: UserWarning: The parameter 'pretrained' is deprecated since 0.13 and may be removed in the future, please use 'weights' instead.\n",
            "  warnings.warn(\n",
            "/usr/local/lib/python3.10/dist-packages/torchvision/models/_utils.py:223: UserWarning: Arguments other than a weight enum or `None` for 'weights' are deprecated since 0.13 and may be removed in the future. The current behavior is equivalent to passing `weights=ResNet50_Weights.IMAGENET1K_V1`. You can also use `weights=ResNet50_Weights.DEFAULT` to get the most up-to-date weights.\n",
            "  warnings.warn(msg)\n"
          ]
        },
        {
          "output_type": "stream",
          "name": "stdout",
          "text": [
            "Epoch 1/10, Accuracy: 71.09%\n",
            "Epoch 2/10, Accuracy: 78.28%\n",
            "Epoch 3/10, Accuracy: 83.10%\n",
            "Epoch 4/10, Accuracy: 85.80%\n",
            "Epoch 5/10, Accuracy: 87.40%\n",
            "Epoch 6/10, Accuracy: 82.30%\n",
            "Epoch 7/10, Accuracy: 86.58%\n",
            "Epoch 8/10, Accuracy: 90.16%\n",
            "Epoch 9/10, Accuracy: 91.70%\n",
            "Epoch 10/10, Accuracy: 92.56%\n",
            "Finished Training\n",
            "Epoch 1/10, Accuracy: 69.87%\n",
            "Epoch 2/10, Accuracy: 79.46%\n",
            "Epoch 3/10, Accuracy: 82.94%\n",
            "Epoch 4/10, Accuracy: 85.84%\n",
            "Epoch 5/10, Accuracy: 87.25%\n",
            "Epoch 6/10, Accuracy: 83.84%\n",
            "Epoch 7/10, Accuracy: 88.80%\n",
            "Epoch 8/10, Accuracy: 88.27%\n",
            "Epoch 9/10, Accuracy: 91.37%\n",
            "Epoch 10/10, Accuracy: 92.30%\n",
            "Finished Training\n",
            "Epoch 1/10, Accuracy: 68.18%\n",
            "Epoch 2/10, Accuracy: 80.13%\n",
            "Epoch 3/10, Accuracy: 83.35%\n",
            "Epoch 4/10, Accuracy: 84.05%\n",
            "Epoch 5/10, Accuracy: 86.25%\n",
            "Epoch 6/10, Accuracy: 88.57%\n",
            "Epoch 7/10, Accuracy: 89.71%\n",
            "Epoch 8/10, Accuracy: 90.69%\n",
            "Epoch 9/10, Accuracy: 91.79%\n",
            "Epoch 10/10, Accuracy: 91.88%\n",
            "Finished Training\n"
          ]
        }
      ]
    },
    {
      "cell_type": "code",
      "source": [
        "fi_resnet50_1 = pytorchfi.core.fault_injection(\n",
        "    model=resnet50_1,\n",
        "    batch_size=1,  #  розмір пакету\n",
        "    layer_types=[torch.nn.Conv2d],  # Типи шарів, до яких застосовуються помилки\n",
        ")\n",
        "fi_resnet50_2 = pytorchfi.core.fault_injection(\n",
        "    model=resnet50_2,\n",
        "    batch_size=1,  #  розмір пакету\n",
        "    layer_types=[torch.nn.Conv2d],  # Типи шарів, до яких застосовуються помилки\n",
        ")\n",
        "fi_resnet50_3 = pytorchfi.core.fault_injection(\n",
        "    model=resnet50_3,\n",
        "    batch_size=1,  #  розмір пакету\n",
        "    layer_types=[torch.nn.Conv2d],  # Типи шарів, до яких застосовуються помилки\n",
        ")\n",
        "corrupt_resnet50_1 =  random_weight_inj(\n",
        "            fi_resnet50_1, corrupt_layer=3, min_val=20, max_val=30\n",
        "        )\n",
        "\n",
        "corrupt_resnet50_2 =  random_weight_inj(\n",
        "            fi_resnet50_2, corrupt_layer=3, min_val=20, max_val=30\n",
        "        )\n",
        "\n",
        "corrupt_resnet50_3 =  random_weight_inj(\n",
        "            fi_resnet50_3, corrupt_layer=3, min_val=20, max_val=30\n",
        "        )\n",
        "\n",
        "predictions_resnet50_1 = get_predictions(corrupt_resnet50_1, test_loader, device)\n",
        "predictions_resnet50_2 = get_predictions(corrupt_resnet50_2, test_loader, device)\n",
        "predictions_resnet50_3 = get_predictions(corrupt_resnet50_3, test_loader, device)\n",
        "\n",
        "predictions2 = [predictions_resnet50_1, predictions_resnet50_2, predictions_resnet50_3]\n",
        "final_predictions2 = vote(predictions2)\n",
        "print(final_predictions2)"
      ],
      "metadata": {
        "colab": {
          "base_uri": "https://localhost:8080/"
        },
        "id": "1l-EcFJk1bIz",
        "outputId": "bc80a0d1-9a61-4897-d8c9-b44599d89060"
      },
      "execution_count": null,
      "outputs": [
        {
          "output_type": "stream",
          "name": "stdout",
          "text": [
            "3\n"
          ]
        }
      ]
    },
    {
      "cell_type": "code",
      "source": [
        "fi_resnet50_1 = pytorchfi.core.fault_injection(\n",
        "    model=resnet50_1,\n",
        "    batch_size=1,  #  розмір пакету\n",
        "    layer_types=[torch.nn.Conv2d],  # Типи шарів, до яких застосовуються помилки\n",
        ")\n",
        "fi_resnet50_2 = pytorchfi.core.fault_injection(\n",
        "    model=resnet50_2,\n",
        "    batch_size=1,  #  розмір пакету\n",
        "    layer_types=[torch.nn.Conv2d],  # Типи шарів, до яких застосовуються помилки\n",
        ")\n",
        "fi_resnet50_3 = pytorchfi.core.fault_injection(\n",
        "    model=resnet50_3,\n",
        "    batch_size=1,  #  розмір пакету\n",
        "    layer_types=[torch.nn.Conv2d],  # Типи шарів, до яких застосовуються помилки\n",
        ")\n",
        "corrupt_resnet50_1 =  random_weight_inj(\n",
        "            fi_resnet50_1, min_val=10, max_val=30\n",
        "        )\n",
        "\n",
        "corrupt_resnet50_2 =  random_weight_inj(\n",
        "            fi_resnet50_2, min_val=10, max_val=30\n",
        "        )\n",
        "\n",
        "corrupt_resnet50_3 =  random_weight_inj(\n",
        "            fi_resnet50_3, min_val=10, max_val=30\n",
        "        )\n",
        "\n",
        "predictions_resnet50_1 = get_predictions(corrupt_resnet50_1, test_loader, device)\n",
        "predictions_resnet50_2 = get_predictions(corrupt_resnet50_2, test_loader, device)\n",
        "predictions_resnet50_3 = get_predictions(corrupt_resnet50_3, test_loader, device)\n",
        "\n",
        "predictions2 = [predictions_resnet50_1, predictions_resnet50_2, predictions_resnet50_3]\n",
        "final_predictions2 = vote(predictions2)\n",
        "print(final_predictions2)"
      ],
      "metadata": {
        "colab": {
          "base_uri": "https://localhost:8080/"
        },
        "id": "8vKE0waa3TKa",
        "outputId": "75912762-9499-4e28-9529-0252009d394f"
      },
      "execution_count": null,
      "outputs": [
        {
          "output_type": "stream",
          "name": "stdout",
          "text": [
            "3\n"
          ]
        }
      ]
    },
    {
      "cell_type": "code",
      "source": [
        "ensemble_resnet50 = [resnet50_1,resnet50_2,resnet50_3]\n",
        "ensemble_resnet50_corrupt = [corrupt_resnet50_1,corrupt_resnet50_2,corrupt_resnet50_3]\n",
        "accuracy = evaluate_ensemble_accuracy(ensemble_resnet50, test_loader, device)\n",
        "print(f'Ensemble Accuracy: {accuracy}%')\n",
        "\n",
        "accuracy_inject = evaluate_ensemble_accuracy(ensemble_resnet50_corrupt, test_loader, device)\n",
        "print(f'Ensemble Accuracy: {accuracy_inject}%')\n",
        "\n",
        "R = 1 - (accuracy-accuracy_inject)/accuracy\n",
        "print(R)\n"
      ],
      "metadata": {
        "colab": {
          "base_uri": "https://localhost:8080/",
          "height": 245
        },
        "id": "FaD4euPXeeyg",
        "outputId": "41199e22-17fc-4bff-ff59-4bac5c9406af"
      },
      "execution_count": null,
      "outputs": [
        {
          "output_type": "error",
          "ename": "NameError",
          "evalue": "ignored",
          "traceback": [
            "\u001b[0;31m---------------------------------------------------------------------------\u001b[0m",
            "\u001b[0;31mNameError\u001b[0m                                 Traceback (most recent call last)",
            "\u001b[0;32m<ipython-input-1-852437b0a93f>\u001b[0m in \u001b[0;36m<cell line: 1>\u001b[0;34m()\u001b[0m\n\u001b[0;32m----> 1\u001b[0;31m \u001b[0mensemble_resnet50\u001b[0m \u001b[0;34m=\u001b[0m \u001b[0;34m[\u001b[0m\u001b[0mresnet50_1\u001b[0m\u001b[0;34m,\u001b[0m\u001b[0mresnet50_2\u001b[0m\u001b[0;34m,\u001b[0m\u001b[0mresnet50_3\u001b[0m\u001b[0;34m]\u001b[0m\u001b[0;34m\u001b[0m\u001b[0;34m\u001b[0m\u001b[0m\n\u001b[0m\u001b[1;32m      2\u001b[0m \u001b[0mensemble_resnet50_corrupt\u001b[0m \u001b[0;34m=\u001b[0m \u001b[0;34m[\u001b[0m\u001b[0mcorrupt_resnet50_1\u001b[0m\u001b[0;34m,\u001b[0m\u001b[0mcorrupt_resnet50_2\u001b[0m\u001b[0;34m,\u001b[0m\u001b[0mcorrupt_resnet50_3\u001b[0m\u001b[0;34m]\u001b[0m\u001b[0;34m\u001b[0m\u001b[0;34m\u001b[0m\u001b[0m\n\u001b[1;32m      3\u001b[0m \u001b[0maccuracy\u001b[0m \u001b[0;34m=\u001b[0m \u001b[0mevaluate_ensemble_accuracy\u001b[0m\u001b[0;34m(\u001b[0m\u001b[0mensemble_resnet50\u001b[0m\u001b[0;34m,\u001b[0m \u001b[0mtest_loader\u001b[0m\u001b[0;34m,\u001b[0m \u001b[0mdevice\u001b[0m\u001b[0;34m)\u001b[0m\u001b[0;34m\u001b[0m\u001b[0;34m\u001b[0m\u001b[0m\n\u001b[1;32m      4\u001b[0m \u001b[0mprint\u001b[0m\u001b[0;34m(\u001b[0m\u001b[0;34mf'Ensemble Accuracy: {accuracy}%'\u001b[0m\u001b[0;34m)\u001b[0m\u001b[0;34m\u001b[0m\u001b[0;34m\u001b[0m\u001b[0m\n\u001b[1;32m      5\u001b[0m \u001b[0;34m\u001b[0m\u001b[0m\n",
            "\u001b[0;31mNameError\u001b[0m: name 'resnet50_1' is not defined"
          ]
        }
      ]
    },
    {
      "cell_type": "code",
      "source": [
        "fi_resnet50_1 = pytorchfi.core.fault_injection(\n",
        "    model=resnet50_1,\n",
        "    batch_size=1,  #  розмір пакету\n",
        "    layer_types=[torch.nn.Conv2d],  # Типи шарів, до яких застосовуються помилки\n",
        ")\n",
        "fi_resnet50_2 = pytorchfi.core.fault_injection(\n",
        "    model=resnet50_2,\n",
        "    batch_size=1,  #  розмір пакету\n",
        "    layer_types=[torch.nn.Conv2d],  # Типи шарів, до яких застосовуються помилки\n",
        ")\n",
        "fi_resnet50_3 = pytorchfi.core.fault_injection(\n",
        "    model=resnet50_3,\n",
        "    batch_size=1,  #  розмір пакету\n",
        "    layer_types=[torch.nn.Conv2d],  # Типи шарів, до яких застосовуються помилки\n",
        ")\n",
        "corrupt_resnet50_1 =  random_weight_inj(\n",
        "            fi_resnet50_1, min_val=10, max_val=30\n",
        "        )\n",
        "\n",
        "corrupt_resnet50_2 =  random_weight_inj(\n",
        "            fi_resnet50_2, min_val=10, max_val=30\n",
        "        )\n",
        "\n",
        "corrupt_resnet50_3 =  random_weight_inj(\n",
        "            fi_resnet50_3, min_val=10, max_val=30\n",
        "        )\n",
        "\n",
        "predictions_resnet50_1 = get_predictions(corrupt_resnet50_1, test_loader, device)\n",
        "predictions_resnet50_2 = get_predictions(corrupt_resnet50_2, test_loader, device)\n",
        "predictions_resnet50_3 = get_predictions(corrupt_resnet50_3, test_loader, device)\n",
        "\n",
        "predictions2 = [predictions_resnet50_1, predictions_resnet50_2, predictions_resnet50_3]\n",
        "final_predictions2 = vote(predictions2)\n",
        "print(final_predictions2)"
      ],
      "metadata": {
        "id": "ND5cS1Qj4gJw"
      },
      "execution_count": null,
      "outputs": []
    },
    {
      "cell_type": "code",
      "source": [
        "ensemble_resnet50 = [resnet50_1,resnet50_2,resnet50_3]\n",
        "ensemble_resnet50_corrupt = [corrupt_resnet50_1,corrupt_resnet50_2,corrupt_resnet50_3]\n",
        "accuracy = evaluate_ensemble_accuracy(ensemble_resnet50, test_loader, device)\n",
        "print(f'Ensemble Accuracy: {accuracy}%')\n",
        "\n",
        "accuracy_inject = evaluate_ensemble_accuracy(ensemble_resnet50_corrupt, test_loader, device)\n",
        "print(f'Ensemble Accuracy: {accuracy_inject}%')\n",
        "\n",
        "R = 1 - (accuracy-accuracy_inject)/accuracy\n",
        "print(R)\n"
      ],
      "metadata": {
        "colab": {
          "base_uri": "https://localhost:8080/"
        },
        "id": "o8zw7B7f1n0N",
        "outputId": "12ad6101-2ea1-47d4-d433-a461587381a1"
      },
      "execution_count": null,
      "outputs": [
        {
          "output_type": "stream",
          "name": "stdout",
          "text": [
            "Ensemble Accuracy: 87.26%\n",
            "Ensemble Accuracy: 86.81%\n",
            "0.9948429979371991\n"
          ]
        }
      ]
    },
    {
      "cell_type": "code",
      "source": [
        "fi_resnet50_1 = pytorchfi.core.fault_injection(\n",
        "    model=resnet50_1,\n",
        "    batch_size=1,  #  розмір пакету\n",
        "    layer_types=[torch.nn.Conv2d],  # Типи шарів, до яких застосовуються помилки\n",
        ")\n",
        "fi_resnet50_2 = pytorchfi.core.fault_injection(\n",
        "    model=resnet50_2,\n",
        "    batch_size=1,  #  розмір пакету\n",
        "    layer_types=[torch.nn.Conv2d],  # Типи шарів, до яких застосовуються помилки\n",
        ")\n",
        "fi_resnet50_3 = pytorchfi.core.fault_injection(\n",
        "    model=resnet50_3,\n",
        "    batch_size=1,  #  розмір пакету\n",
        "    layer_types=[torch.nn.Conv2d],  # Типи шарів, до яких застосовуються помилки\n",
        ")\n",
        "corrupt_resnet50_1 =  zero_func_rand_weight(\n",
        "            fi_resnet50_1\n",
        "        )\n",
        "\n",
        "corrupt_resnet50_2 =  zero_func_rand_weight(\n",
        "            fi_resnet50_2\n",
        "        )\n",
        "\n",
        "corrupt_resnet50_3 =  zero_func_rand_weight(\n",
        "            fi_resnet50_3\n",
        "        )\n",
        "\n",
        "predictions_resnet50_1 = get_predictions(corrupt_resnet50_1, test_loader, device)\n",
        "predictions_resnet50_2 = get_predictions(corrupt_resnet50_2, test_loader, device)\n",
        "predictions_resnet50_3 = get_predictions(corrupt_resnet50_3, test_loader, device)\n",
        "\n",
        "predictions2 = [predictions_resnet50_1, predictions_resnet50_2, predictions_resnet50_3]\n",
        "final_predictions2 = vote(predictions2)\n",
        "print(final_predictions2)"
      ],
      "metadata": {
        "colab": {
          "base_uri": "https://localhost:8080/"
        },
        "id": "bl4CXmdm4stf",
        "outputId": "150906d1-08f4-4616-c6c0-ca39fbcd9190"
      },
      "execution_count": null,
      "outputs": [
        {
          "output_type": "stream",
          "name": "stdout",
          "text": [
            "3\n"
          ]
        }
      ]
    },
    {
      "cell_type": "code",
      "source": [
        "#Zeros\n",
        "ensemble_resnet50 = [resnet50_1,resnet50_2,resnet50_3]\n",
        "ensemble_resnet50_corrupt = [corrupt_resnet50_1,corrupt_resnet50_2,corrupt_resnet50_3]\n",
        "accuracy = evaluate_ensemble_accuracy(ensemble_resnet50, test_loader, device)\n",
        "print(f'Ensemble Accuracy: {accuracy}%')\n",
        "\n",
        "accuracy_inject = evaluate_ensemble_accuracy(ensemble_resnet50_corrupt, test_loader, device)\n",
        "print(f'Ensemble Accuracy: {accuracy_inject}%')\n",
        "\n",
        "R = 1 - (accuracy-accuracy_inject)/accuracy\n",
        "print(R)\n"
      ],
      "metadata": {
        "colab": {
          "base_uri": "https://localhost:8080/"
        },
        "id": "mZwcUpn34ymu",
        "outputId": "0bee4a20-b04b-446e-d147-a8232e1d1dc6"
      },
      "execution_count": null,
      "outputs": [
        {
          "output_type": "stream",
          "name": "stdout",
          "text": [
            "Ensemble Accuracy: 79.19%\n",
            "Ensemble Accuracy: 79.44%\n",
            "1.0031569642631646\n"
          ]
        }
      ]
    },
    {
      "cell_type": "markdown",
      "source": [
        "# MobileNet"
      ],
      "metadata": {
        "id": "sx--wK_z2x70"
      }
    },
    {
      "cell_type": "code",
      "source": [
        "import torch\n",
        "import torchvision\n",
        "import torchvision.transforms as transforms\n",
        "import torchvision.models as models\n",
        "import torch.nn as nn\n",
        "import torch.optim as optim\n",
        "\n",
        "\n",
        "# Визначення моделі MobileNet\n",
        "mobilenet_1 = models.mobilenet_v2(pretrained=True)\n",
        "num_ftrs = mobilenet_1.classifier[1].in_features\n",
        "mobilenet_1.classifier = nn.Sequential(\n",
        "    nn.Linear(num_ftrs, 10)  # CIFAR10 має 10 класів\n",
        ")\n",
        "mobilenet_2 = models.mobilenet_v2(pretrained=True)\n",
        "num_ftrs = mobilenet_2.classifier[1].in_features\n",
        "mobilenet_2.classifier = nn.Sequential(\n",
        "    nn.Linear(num_ftrs, 10)  # CIFAR10 має 10 класів\n",
        ")\n",
        "mobilenet_3 = models.mobilenet_v2(pretrained=True)\n",
        "num_ftrs = mobilenet_3.classifier[1].in_features\n",
        "mobilenet_3.classifier = nn.Sequential(\n",
        "    nn.Linear(num_ftrs, 10)  # CIFAR10 має 10 класів\n",
        ")\n",
        "\n",
        "device = torch.device(\"cuda:0\" if torch.cuda.is_available() else \"cpu\")\n",
        "mobilenet_1.to(device)\n",
        "mobilenet_2.to(device)\n",
        "mobilenet_3.to(device)\n",
        "# Визначення оптимізатора та функції втрат\n",
        "optimizer21 = optim.Adam(mobilenet_1.parameters(), lr=0.001)\n",
        "optimizer22 = optim.Adam(mobilenet_2.parameters(), lr=0.001)\n",
        "optimizer23 = optim.Adam(mobilenet_3.parameters(), lr=0.001)\n",
        "criterion = nn.CrossEntropyLoss()\n",
        "def train_model(model, train_loader, criterion, optimizer, device, num_epochs=10):\n",
        "    model.to(device)\n",
        "    model.train()\n",
        "\n",
        "    for epoch in range(num_epochs):\n",
        "        correct_predictions = 0\n",
        "        total_predictions = 0\n",
        "\n",
        "        for inputs, labels in train_loader:\n",
        "            inputs, labels = inputs.to(device), labels.to(device)\n",
        "\n",
        "            optimizer.zero_grad()\n",
        "            outputs = model(inputs)\n",
        "            loss = criterion(outputs, labels)\n",
        "            loss.backward()\n",
        "            optimizer.step()\n",
        "\n",
        "            _, predicted = torch.max(outputs.data, 1)\n",
        "            total_predictions += labels.size(0)\n",
        "            correct_predictions += (predicted == labels).sum().item()\n",
        "\n",
        "        accuracy = 100 * correct_predictions / total_predictions\n",
        "        print(f'Epoch {epoch + 1}/{num_epochs}, Accuracy: {accuracy:.2f}%')\n",
        "\n",
        "    print('Finished Training')\n",
        "\n",
        "\n",
        "# Тренування моделі\n",
        "train_model(mobilenet_1,train_loader,  criterion, optimizer21, device, num_epochs=10)\n",
        "train_model(mobilenet_2, train_loader, criterion, optimizer22, device, num_epochs=10)\n",
        "train_model(mobilenet_3,train_loader,  criterion, optimizer23, device, num_epochs=10)"
      ],
      "metadata": {
        "colab": {
          "base_uri": "https://localhost:8080/"
        },
        "id": "9K3vY7iL2cZ-",
        "outputId": "3e642de6-bc6c-4d07-f93a-dd71646b6a28"
      },
      "execution_count": null,
      "outputs": [
        {
          "output_type": "stream",
          "name": "stdout",
          "text": [
            "Epoch 1/10, Accuracy: 69.22%\n",
            "Epoch 2/10, Accuracy: 79.16%\n",
            "Epoch 3/10, Accuracy: 82.06%\n",
            "Epoch 4/10, Accuracy: 83.77%\n",
            "Epoch 5/10, Accuracy: 85.19%\n",
            "Epoch 6/10, Accuracy: 82.20%\n",
            "Epoch 7/10, Accuracy: 77.77%\n",
            "Epoch 8/10, Accuracy: 82.61%\n",
            "Epoch 9/10, Accuracy: 85.90%\n",
            "Epoch 10/10, Accuracy: 85.54%\n",
            "Finished Training\n",
            "Epoch 1/10, Accuracy: 69.29%\n",
            "Epoch 2/10, Accuracy: 78.81%\n",
            "Epoch 3/10, Accuracy: 81.92%\n",
            "Epoch 4/10, Accuracy: 83.67%\n",
            "Epoch 5/10, Accuracy: 84.68%\n",
            "Epoch 6/10, Accuracy: 85.60%\n",
            "Epoch 7/10, Accuracy: 86.63%\n",
            "Epoch 8/10, Accuracy: 87.71%\n",
            "Epoch 9/10, Accuracy: 88.09%\n",
            "Epoch 10/10, Accuracy: 89.05%\n",
            "Finished Training\n",
            "Epoch 1/10, Accuracy: 69.09%\n",
            "Epoch 2/10, Accuracy: 79.08%\n",
            "Epoch 3/10, Accuracy: 81.37%\n",
            "Epoch 4/10, Accuracy: 83.48%\n",
            "Epoch 5/10, Accuracy: 84.76%\n",
            "Epoch 6/10, Accuracy: 85.25%\n",
            "Epoch 7/10, Accuracy: 86.17%\n",
            "Epoch 8/10, Accuracy: 87.22%\n",
            "Epoch 9/10, Accuracy: 87.32%\n",
            "Epoch 10/10, Accuracy: 88.12%\n",
            "Finished Training\n"
          ]
        }
      ]
    },
    {
      "cell_type": "code",
      "source": [
        "fi_mobilenet_1 = pytorchfi.core.fault_injection(\n",
        "    model=mobilenet_1,\n",
        "    batch_size=1,  # Ваш розмір пакету\n",
        "    layer_types=[torch.nn.Conv2d],  # Типи шарів, до яких застосовуються помилки\n",
        ")\n",
        "fi_mobilenet_2 = pytorchfi.core.fault_injection(\n",
        "    model=mobilenet_2,\n",
        "    batch_size=1,  # Ваш розмір пакету\n",
        "    layer_types=[torch.nn.Conv2d],  # Типи шарів, до яких застосовуються помилки\n",
        ")\n",
        "fi_mobilenet_3 = pytorchfi.core.fault_injection(\n",
        "    model=mobilenet_3,\n",
        "    batch_size=1,  # Ваш розмір пакету\n",
        "    layer_types=[torch.nn.Conv2d],  # Типи шарів, до яких застосовуються помилки\n",
        ")\n",
        "corrupt_mobilenet_1 =  random_weight_inj(\n",
        "            fi_mobilenet_1, corrupt_layer=3, min_val=20, max_val=30\n",
        "        )\n",
        "\n",
        "corrupt_mobilenet_2 =  random_weight_inj(\n",
        "            fi_mobilenet_2, corrupt_layer=3, min_val=20, max_val=30\n",
        "        )\n",
        "\n",
        "corrupt_mobilenet_3 =  random_weight_inj(\n",
        "            fi_mobilenet_3, corrupt_layer=3, min_val=20, max_val=30\n",
        "        )\n",
        "# Тепер mobilenet_2 готова до використання з новими вагами і налаштованим класифікатором\n",
        "predictions_mobilenet_1 = get_predictions(corrupt_mobilenet_1, test_loader, device)\n",
        "predictions_mobilenet_2 = get_predictions(corrupt_mobilenet_2, test_loader, device)\n",
        "predictions_mobilenet_3 = get_predictions(corrupt_mobilenet_3, test_loader, device)\n",
        "\n",
        "predictions3 = [predictions_mobilenet_1, predictions_mobilenet_2, predictions_mobilenet_3]\n",
        "final_predictions3 = vote(predictions3)\n",
        "print(final_predictions3)"
      ],
      "metadata": {
        "colab": {
          "base_uri": "https://localhost:8080/"
        },
        "id": "TOa7lqIJ3zkd",
        "outputId": "0ddc93eb-53f3-4d2c-cde2-9ba9a1706585"
      },
      "execution_count": null,
      "outputs": [
        {
          "output_type": "stream",
          "name": "stdout",
          "text": [
            "3\n"
          ]
        }
      ]
    },
    {
      "cell_type": "code",
      "source": [
        "fi_mobilenet_1 = pytorchfi.core.fault_injection(\n",
        "    model=mobilenet_1,\n",
        "    batch_size=1,  # Ваш розмір пакету\n",
        "    layer_types=[torch.nn.Conv2d],  # Типи шарів, до яких застосовуються помилки\n",
        ")\n",
        "fi_mobilenet_2 = pytorchfi.core.fault_injection(\n",
        "    model=mobilenet_2,\n",
        "    batch_size=1,  # Ваш розмір пакету\n",
        "    layer_types=[torch.nn.Conv2d],  # Типи шарів, до яких застосовуються помилки\n",
        ")\n",
        "fi_mobilenet_3 = pytorchfi.core.fault_injection(\n",
        "    model=mobilenet_3,\n",
        "    batch_size=1,  # Ваш розмір пакету\n",
        "    layer_types=[torch.nn.Conv2d],  # Типи шарів, до яких застосовуються помилки\n",
        ")\n",
        "corrupt_mobilenet_1 =  random_weight_inj(\n",
        "            fi_mobilenet_1, min_val=10, max_val=30\n",
        "        )\n",
        "\n",
        "corrupt_mobilenet_2 =  random_weight_inj(\n",
        "            fi_mobilenet_2, min_val=10, max_val=30\n",
        "        )\n",
        "\n",
        "corrupt_mobilenet_3 =  random_weight_inj(\n",
        "            fi_mobilenet_3, min_val=10, max_val=30\n",
        "        )\n",
        "# Тепер mobilenet_2 готова до використання з новими вагами і налаштованим класифікатором\n",
        "predictions_mobilenet_1 = get_predictions(corrupt_mobilenet_1, test_loader, device)\n",
        "predictions_mobilenet_2 = get_predictions(corrupt_mobilenet_2, test_loader, device)\n",
        "predictions_mobilenet_3 = get_predictions(corrupt_mobilenet_3, test_loader, device)\n",
        "\n",
        "predictions3 = [predictions_mobilenet_1, predictions_mobilenet_2, predictions_mobilenet_3]\n",
        "final_predictions3 = vote(predictions3)\n",
        "print(final_predictions3)"
      ],
      "metadata": {
        "colab": {
          "base_uri": "https://localhost:8080/"
        },
        "id": "Dn4ZIaS43n9L",
        "outputId": "af5d2be2-6f59-4c43-c5af-5d80e51de283"
      },
      "execution_count": null,
      "outputs": [
        {
          "output_type": "stream",
          "name": "stdout",
          "text": [
            "0\n"
          ]
        }
      ]
    },
    {
      "cell_type": "code",
      "source": [
        "fi_mobilenet_1 = pytorchfi.core.fault_injection(\n",
        "    model=mobilenet_1,\n",
        "    batch_size=1,  # Ваш розмір пакету\n",
        "    layer_types=[torch.nn.Conv2d],  # Типи шарів, до яких застосовуються помилки\n",
        ")\n",
        "fi_mobilenet_2 = pytorchfi.core.fault_injection(\n",
        "    model=mobilenet_2,\n",
        "    batch_size=1,  # Ваш розмір пакету\n",
        "    layer_types=[torch.nn.Conv2d],  # Типи шарів, до яких застосовуються помилки\n",
        ")\n",
        "fi_mobilenet_3 = pytorchfi.core.fault_injection(\n",
        "    model=mobilenet_3,\n",
        "    batch_size=1,  # Ваш розмір пакету\n",
        "    layer_types=[torch.nn.Conv2d],  # Типи шарів, до яких застосовуються помилки\n",
        ")\n",
        "corrupt_mobilenet_1 =  zero_func_rand_weight(\n",
        "            fi_mobilenet_1\n",
        "        )\n",
        "\n",
        "corrupt_mobilenet_2 =  zero_func_rand_weight(\n",
        "            fi_mobilenet_2\n",
        "        )\n",
        "\n",
        "corrupt_mobilenet_3 =  zero_func_rand_weight(\n",
        "            fi_mobilenet_3\n",
        "        )\n",
        "# Тепер mobilenet_2 готова до використання з новими вагами і налаштованим класифікатором\n",
        "predictions_mobilenet_1 = get_predictions(corrupt_mobilenet_1, test_loader, device)\n",
        "predictions_mobilenet_2 = get_predictions(corrupt_mobilenet_2, test_loader, device)\n",
        "predictions_mobilenet_3 = get_predictions(corrupt_mobilenet_3, test_loader, device)\n",
        "\n",
        "predictions3 = [predictions_mobilenet_1, predictions_mobilenet_2, predictions_mobilenet_3]\n",
        "final_predictions3 = vote(predictions3)\n",
        "print(final_predictions3)"
      ],
      "metadata": {
        "colab": {
          "base_uri": "https://localhost:8080/"
        },
        "id": "gd1Zi74R350l",
        "outputId": "ad9143dd-4e5a-4ab3-b237-ba40835947ff"
      },
      "execution_count": null,
      "outputs": [
        {
          "output_type": "stream",
          "name": "stdout",
          "text": [
            "3\n"
          ]
        }
      ]
    },
    {
      "cell_type": "code",
      "source": [
        "batch_size = 1\n",
        "workers = 2\n",
        "channels = 3\n",
        "img_size = 32\n",
        "use_gpu = False\n",
        "\n",
        "fi_mobilenet_12 = pytorchfi.core.fault_injection(\n",
        "    model=mobilenet_1,\n",
        "    batch_size=1,  # Ваш розмір пакету,\n",
        "    input_shape=[channels, img_size, img_size],\n",
        "    layer_types=[torch.nn.Conv2d],  # Типи шарів, до яких застосовуються помилки\n",
        ")\n",
        "\n",
        "corrupt_mobilenet_3 =  random_neuron_inj(\n",
        "            fi_mobilenet_3, min_val=0, max_val=1)\n"
      ],
      "metadata": {
        "id": "ZoJdYggY5mSJ"
      },
      "execution_count": null,
      "outputs": []
    },
    {
      "cell_type": "code",
      "source": [
        "predictions_mobilenet_3 = get_predictions(corrupt_mobilenet_3, test_loader, device)"
      ],
      "metadata": {
        "colab": {
          "base_uri": "https://localhost:8080/",
          "height": 321
        },
        "id": "tezwH7lk6fXp",
        "outputId": "2926ee2e-cd95-4841-b629-0a699358adf2"
      },
      "execution_count": null,
      "outputs": [
        {
          "output_type": "error",
          "ename": "IndexError",
          "evalue": "ignored",
          "traceback": [
            "\u001b[0;31m---------------------------------------------------------------------------\u001b[0m",
            "\u001b[0;31mIndexError\u001b[0m                                Traceback (most recent call last)",
            "\u001b[0;32m<ipython-input-69-2821c6cbc5f7>\u001b[0m in \u001b[0;36m<cell line: 1>\u001b[0;34m()\u001b[0m\n\u001b[0;32m----> 1\u001b[0;31m \u001b[0mpredictions_mobilenet_3\u001b[0m \u001b[0;34m=\u001b[0m \u001b[0mget_predictions\u001b[0m\u001b[0;34m(\u001b[0m\u001b[0mcorrupt_mobilenet_3\u001b[0m\u001b[0;34m,\u001b[0m \u001b[0mtest_loader\u001b[0m\u001b[0;34m,\u001b[0m \u001b[0mdevice\u001b[0m\u001b[0;34m)\u001b[0m\u001b[0;34m\u001b[0m\u001b[0;34m\u001b[0m\u001b[0m\n\u001b[0m",
            "\u001b[0;32m<ipython-input-8-4f53b03fda0e>\u001b[0m in \u001b[0;36mget_predictions\u001b[0;34m(model, test_loader, device)\u001b[0m\n\u001b[1;32m      7\u001b[0m         \u001b[0;32mfor\u001b[0m \u001b[0minputs\u001b[0m\u001b[0;34m,\u001b[0m \u001b[0m_\u001b[0m \u001b[0;32min\u001b[0m \u001b[0mtest_loader\u001b[0m\u001b[0;34m:\u001b[0m\u001b[0;34m\u001b[0m\u001b[0;34m\u001b[0m\u001b[0m\n\u001b[1;32m      8\u001b[0m             \u001b[0minputs\u001b[0m \u001b[0;34m=\u001b[0m \u001b[0minputs\u001b[0m\u001b[0;34m.\u001b[0m\u001b[0mto\u001b[0m\u001b[0;34m(\u001b[0m\u001b[0mdevice\u001b[0m\u001b[0;34m)\u001b[0m\u001b[0;34m\u001b[0m\u001b[0;34m\u001b[0m\u001b[0m\n\u001b[0;32m----> 9\u001b[0;31m             \u001b[0moutputs\u001b[0m \u001b[0;34m=\u001b[0m \u001b[0mmodel\u001b[0m\u001b[0;34m(\u001b[0m\u001b[0minputs\u001b[0m\u001b[0;34m)\u001b[0m\u001b[0;34m\u001b[0m\u001b[0;34m\u001b[0m\u001b[0m\n\u001b[0m\u001b[1;32m     10\u001b[0m             \u001b[0m_\u001b[0m\u001b[0;34m,\u001b[0m \u001b[0mpredicted\u001b[0m \u001b[0;34m=\u001b[0m \u001b[0mtorch\u001b[0m\u001b[0;34m.\u001b[0m\u001b[0mmax\u001b[0m\u001b[0;34m(\u001b[0m\u001b[0moutputs\u001b[0m\u001b[0;34m,\u001b[0m \u001b[0;36m1\u001b[0m\u001b[0;34m)\u001b[0m\u001b[0;34m\u001b[0m\u001b[0;34m\u001b[0m\u001b[0m\n\u001b[1;32m     11\u001b[0m             \u001b[0mpredictions\u001b[0m\u001b[0;34m.\u001b[0m\u001b[0mextend\u001b[0m\u001b[0;34m(\u001b[0m\u001b[0mpredicted\u001b[0m\u001b[0;34m.\u001b[0m\u001b[0mcpu\u001b[0m\u001b[0;34m(\u001b[0m\u001b[0;34m)\u001b[0m\u001b[0;34m.\u001b[0m\u001b[0mnumpy\u001b[0m\u001b[0;34m(\u001b[0m\u001b[0;34m)\u001b[0m\u001b[0;34m)\u001b[0m\u001b[0;34m\u001b[0m\u001b[0;34m\u001b[0m\u001b[0m\n",
            "\u001b[0;32m/usr/local/lib/python3.10/dist-packages/torch/nn/modules/module.py\u001b[0m in \u001b[0;36m_wrapped_call_impl\u001b[0;34m(self, *args, **kwargs)\u001b[0m\n\u001b[1;32m   1516\u001b[0m             \u001b[0;32mreturn\u001b[0m \u001b[0mself\u001b[0m\u001b[0;34m.\u001b[0m\u001b[0m_compiled_call_impl\u001b[0m\u001b[0;34m(\u001b[0m\u001b[0;34m*\u001b[0m\u001b[0margs\u001b[0m\u001b[0;34m,\u001b[0m \u001b[0;34m**\u001b[0m\u001b[0mkwargs\u001b[0m\u001b[0;34m)\u001b[0m  \u001b[0;31m# type: ignore[misc]\u001b[0m\u001b[0;34m\u001b[0m\u001b[0;34m\u001b[0m\u001b[0m\n\u001b[1;32m   1517\u001b[0m         \u001b[0;32melse\u001b[0m\u001b[0;34m:\u001b[0m\u001b[0;34m\u001b[0m\u001b[0;34m\u001b[0m\u001b[0m\n\u001b[0;32m-> 1518\u001b[0;31m             \u001b[0;32mreturn\u001b[0m \u001b[0mself\u001b[0m\u001b[0;34m.\u001b[0m\u001b[0m_call_impl\u001b[0m\u001b[0;34m(\u001b[0m\u001b[0;34m*\u001b[0m\u001b[0margs\u001b[0m\u001b[0;34m,\u001b[0m \u001b[0;34m**\u001b[0m\u001b[0mkwargs\u001b[0m\u001b[0;34m)\u001b[0m\u001b[0;34m\u001b[0m\u001b[0;34m\u001b[0m\u001b[0m\n\u001b[0m\u001b[1;32m   1519\u001b[0m \u001b[0;34m\u001b[0m\u001b[0m\n\u001b[1;32m   1520\u001b[0m     \u001b[0;32mdef\u001b[0m \u001b[0m_call_impl\u001b[0m\u001b[0;34m(\u001b[0m\u001b[0mself\u001b[0m\u001b[0;34m,\u001b[0m \u001b[0;34m*\u001b[0m\u001b[0margs\u001b[0m\u001b[0;34m,\u001b[0m \u001b[0;34m**\u001b[0m\u001b[0mkwargs\u001b[0m\u001b[0;34m)\u001b[0m\u001b[0;34m:\u001b[0m\u001b[0;34m\u001b[0m\u001b[0;34m\u001b[0m\u001b[0m\n",
            "\u001b[0;32m/usr/local/lib/python3.10/dist-packages/torch/nn/modules/module.py\u001b[0m in \u001b[0;36m_call_impl\u001b[0;34m(self, *args, **kwargs)\u001b[0m\n\u001b[1;32m   1525\u001b[0m                 \u001b[0;32mor\u001b[0m \u001b[0m_global_backward_pre_hooks\u001b[0m \u001b[0;32mor\u001b[0m \u001b[0m_global_backward_hooks\u001b[0m\u001b[0;34m\u001b[0m\u001b[0;34m\u001b[0m\u001b[0m\n\u001b[1;32m   1526\u001b[0m                 or _global_forward_hooks or _global_forward_pre_hooks):\n\u001b[0;32m-> 1527\u001b[0;31m             \u001b[0;32mreturn\u001b[0m \u001b[0mforward_call\u001b[0m\u001b[0;34m(\u001b[0m\u001b[0;34m*\u001b[0m\u001b[0margs\u001b[0m\u001b[0;34m,\u001b[0m \u001b[0;34m**\u001b[0m\u001b[0mkwargs\u001b[0m\u001b[0;34m)\u001b[0m\u001b[0;34m\u001b[0m\u001b[0;34m\u001b[0m\u001b[0m\n\u001b[0m\u001b[1;32m   1528\u001b[0m \u001b[0;34m\u001b[0m\u001b[0m\n\u001b[1;32m   1529\u001b[0m         \u001b[0;32mtry\u001b[0m\u001b[0;34m:\u001b[0m\u001b[0;34m\u001b[0m\u001b[0;34m\u001b[0m\u001b[0m\n",
            "\u001b[0;32m/usr/local/lib/python3.10/dist-packages/torchvision/models/mobilenetv2.py\u001b[0m in \u001b[0;36mforward\u001b[0;34m(self, x)\u001b[0m\n\u001b[1;32m    172\u001b[0m \u001b[0;34m\u001b[0m\u001b[0m\n\u001b[1;32m    173\u001b[0m     \u001b[0;32mdef\u001b[0m \u001b[0mforward\u001b[0m\u001b[0;34m(\u001b[0m\u001b[0mself\u001b[0m\u001b[0;34m,\u001b[0m \u001b[0mx\u001b[0m\u001b[0;34m:\u001b[0m \u001b[0mTensor\u001b[0m\u001b[0;34m)\u001b[0m \u001b[0;34m->\u001b[0m \u001b[0mTensor\u001b[0m\u001b[0;34m:\u001b[0m\u001b[0;34m\u001b[0m\u001b[0;34m\u001b[0m\u001b[0m\n\u001b[0;32m--> 174\u001b[0;31m         \u001b[0;32mreturn\u001b[0m \u001b[0mself\u001b[0m\u001b[0;34m.\u001b[0m\u001b[0m_forward_impl\u001b[0m\u001b[0;34m(\u001b[0m\u001b[0mx\u001b[0m\u001b[0;34m)\u001b[0m\u001b[0;34m\u001b[0m\u001b[0;34m\u001b[0m\u001b[0m\n\u001b[0m\u001b[1;32m    175\u001b[0m \u001b[0;34m\u001b[0m\u001b[0m\n\u001b[1;32m    176\u001b[0m \u001b[0;34m\u001b[0m\u001b[0m\n",
            "\u001b[0;32m/usr/local/lib/python3.10/dist-packages/torchvision/models/mobilenetv2.py\u001b[0m in \u001b[0;36m_forward_impl\u001b[0;34m(self, x)\u001b[0m\n\u001b[1;32m    164\u001b[0m         \u001b[0;31m# This exists since TorchScript doesn't support inheritance, so the superclass method\u001b[0m\u001b[0;34m\u001b[0m\u001b[0;34m\u001b[0m\u001b[0m\n\u001b[1;32m    165\u001b[0m         \u001b[0;31m# (this one) needs to have a name other than `forward` that can be accessed in a subclass\u001b[0m\u001b[0;34m\u001b[0m\u001b[0;34m\u001b[0m\u001b[0m\n\u001b[0;32m--> 166\u001b[0;31m         \u001b[0mx\u001b[0m \u001b[0;34m=\u001b[0m \u001b[0mself\u001b[0m\u001b[0;34m.\u001b[0m\u001b[0mfeatures\u001b[0m\u001b[0;34m(\u001b[0m\u001b[0mx\u001b[0m\u001b[0;34m)\u001b[0m\u001b[0;34m\u001b[0m\u001b[0;34m\u001b[0m\u001b[0m\n\u001b[0m\u001b[1;32m    167\u001b[0m         \u001b[0;31m# Cannot use \"squeeze\" as batch-size can be 1\u001b[0m\u001b[0;34m\u001b[0m\u001b[0;34m\u001b[0m\u001b[0m\n\u001b[1;32m    168\u001b[0m         \u001b[0mx\u001b[0m \u001b[0;34m=\u001b[0m \u001b[0mnn\u001b[0m\u001b[0;34m.\u001b[0m\u001b[0mfunctional\u001b[0m\u001b[0;34m.\u001b[0m\u001b[0madaptive_avg_pool2d\u001b[0m\u001b[0;34m(\u001b[0m\u001b[0mx\u001b[0m\u001b[0;34m,\u001b[0m \u001b[0;34m(\u001b[0m\u001b[0;36m1\u001b[0m\u001b[0;34m,\u001b[0m \u001b[0;36m1\u001b[0m\u001b[0;34m)\u001b[0m\u001b[0;34m)\u001b[0m\u001b[0;34m\u001b[0m\u001b[0;34m\u001b[0m\u001b[0m\n",
            "\u001b[0;32m/usr/local/lib/python3.10/dist-packages/torch/nn/modules/module.py\u001b[0m in \u001b[0;36m_wrapped_call_impl\u001b[0;34m(self, *args, **kwargs)\u001b[0m\n\u001b[1;32m   1516\u001b[0m             \u001b[0;32mreturn\u001b[0m \u001b[0mself\u001b[0m\u001b[0;34m.\u001b[0m\u001b[0m_compiled_call_impl\u001b[0m\u001b[0;34m(\u001b[0m\u001b[0;34m*\u001b[0m\u001b[0margs\u001b[0m\u001b[0;34m,\u001b[0m \u001b[0;34m**\u001b[0m\u001b[0mkwargs\u001b[0m\u001b[0;34m)\u001b[0m  \u001b[0;31m# type: ignore[misc]\u001b[0m\u001b[0;34m\u001b[0m\u001b[0;34m\u001b[0m\u001b[0m\n\u001b[1;32m   1517\u001b[0m         \u001b[0;32melse\u001b[0m\u001b[0;34m:\u001b[0m\u001b[0;34m\u001b[0m\u001b[0;34m\u001b[0m\u001b[0m\n\u001b[0;32m-> 1518\u001b[0;31m             \u001b[0;32mreturn\u001b[0m \u001b[0mself\u001b[0m\u001b[0;34m.\u001b[0m\u001b[0m_call_impl\u001b[0m\u001b[0;34m(\u001b[0m\u001b[0;34m*\u001b[0m\u001b[0margs\u001b[0m\u001b[0;34m,\u001b[0m \u001b[0;34m**\u001b[0m\u001b[0mkwargs\u001b[0m\u001b[0;34m)\u001b[0m\u001b[0;34m\u001b[0m\u001b[0;34m\u001b[0m\u001b[0m\n\u001b[0m\u001b[1;32m   1519\u001b[0m \u001b[0;34m\u001b[0m\u001b[0m\n\u001b[1;32m   1520\u001b[0m     \u001b[0;32mdef\u001b[0m \u001b[0m_call_impl\u001b[0m\u001b[0;34m(\u001b[0m\u001b[0mself\u001b[0m\u001b[0;34m,\u001b[0m \u001b[0;34m*\u001b[0m\u001b[0margs\u001b[0m\u001b[0;34m,\u001b[0m \u001b[0;34m**\u001b[0m\u001b[0mkwargs\u001b[0m\u001b[0;34m)\u001b[0m\u001b[0;34m:\u001b[0m\u001b[0;34m\u001b[0m\u001b[0;34m\u001b[0m\u001b[0m\n",
            "\u001b[0;32m/usr/local/lib/python3.10/dist-packages/torch/nn/modules/module.py\u001b[0m in \u001b[0;36m_call_impl\u001b[0;34m(self, *args, **kwargs)\u001b[0m\n\u001b[1;32m   1525\u001b[0m                 \u001b[0;32mor\u001b[0m \u001b[0m_global_backward_pre_hooks\u001b[0m \u001b[0;32mor\u001b[0m \u001b[0m_global_backward_hooks\u001b[0m\u001b[0;34m\u001b[0m\u001b[0;34m\u001b[0m\u001b[0m\n\u001b[1;32m   1526\u001b[0m                 or _global_forward_hooks or _global_forward_pre_hooks):\n\u001b[0;32m-> 1527\u001b[0;31m             \u001b[0;32mreturn\u001b[0m \u001b[0mforward_call\u001b[0m\u001b[0;34m(\u001b[0m\u001b[0;34m*\u001b[0m\u001b[0margs\u001b[0m\u001b[0;34m,\u001b[0m \u001b[0;34m**\u001b[0m\u001b[0mkwargs\u001b[0m\u001b[0;34m)\u001b[0m\u001b[0;34m\u001b[0m\u001b[0;34m\u001b[0m\u001b[0m\n\u001b[0m\u001b[1;32m   1528\u001b[0m \u001b[0;34m\u001b[0m\u001b[0m\n\u001b[1;32m   1529\u001b[0m         \u001b[0;32mtry\u001b[0m\u001b[0;34m:\u001b[0m\u001b[0;34m\u001b[0m\u001b[0;34m\u001b[0m\u001b[0m\n",
            "\u001b[0;32m/usr/local/lib/python3.10/dist-packages/torch/nn/modules/container.py\u001b[0m in \u001b[0;36mforward\u001b[0;34m(self, input)\u001b[0m\n\u001b[1;32m    213\u001b[0m     \u001b[0;32mdef\u001b[0m \u001b[0mforward\u001b[0m\u001b[0;34m(\u001b[0m\u001b[0mself\u001b[0m\u001b[0;34m,\u001b[0m \u001b[0minput\u001b[0m\u001b[0;34m)\u001b[0m\u001b[0;34m:\u001b[0m\u001b[0;34m\u001b[0m\u001b[0;34m\u001b[0m\u001b[0m\n\u001b[1;32m    214\u001b[0m         \u001b[0;32mfor\u001b[0m \u001b[0mmodule\u001b[0m \u001b[0;32min\u001b[0m \u001b[0mself\u001b[0m\u001b[0;34m:\u001b[0m\u001b[0;34m\u001b[0m\u001b[0;34m\u001b[0m\u001b[0m\n\u001b[0;32m--> 215\u001b[0;31m             \u001b[0minput\u001b[0m \u001b[0;34m=\u001b[0m \u001b[0mmodule\u001b[0m\u001b[0;34m(\u001b[0m\u001b[0minput\u001b[0m\u001b[0;34m)\u001b[0m\u001b[0;34m\u001b[0m\u001b[0;34m\u001b[0m\u001b[0m\n\u001b[0m\u001b[1;32m    216\u001b[0m         \u001b[0;32mreturn\u001b[0m \u001b[0minput\u001b[0m\u001b[0;34m\u001b[0m\u001b[0;34m\u001b[0m\u001b[0m\n\u001b[1;32m    217\u001b[0m \u001b[0;34m\u001b[0m\u001b[0m\n",
            "\u001b[0;32m/usr/local/lib/python3.10/dist-packages/torch/nn/modules/module.py\u001b[0m in \u001b[0;36m_wrapped_call_impl\u001b[0;34m(self, *args, **kwargs)\u001b[0m\n\u001b[1;32m   1516\u001b[0m             \u001b[0;32mreturn\u001b[0m \u001b[0mself\u001b[0m\u001b[0;34m.\u001b[0m\u001b[0m_compiled_call_impl\u001b[0m\u001b[0;34m(\u001b[0m\u001b[0;34m*\u001b[0m\u001b[0margs\u001b[0m\u001b[0;34m,\u001b[0m \u001b[0;34m**\u001b[0m\u001b[0mkwargs\u001b[0m\u001b[0;34m)\u001b[0m  \u001b[0;31m# type: ignore[misc]\u001b[0m\u001b[0;34m\u001b[0m\u001b[0;34m\u001b[0m\u001b[0m\n\u001b[1;32m   1517\u001b[0m         \u001b[0;32melse\u001b[0m\u001b[0;34m:\u001b[0m\u001b[0;34m\u001b[0m\u001b[0;34m\u001b[0m\u001b[0m\n\u001b[0;32m-> 1518\u001b[0;31m             \u001b[0;32mreturn\u001b[0m \u001b[0mself\u001b[0m\u001b[0;34m.\u001b[0m\u001b[0m_call_impl\u001b[0m\u001b[0;34m(\u001b[0m\u001b[0;34m*\u001b[0m\u001b[0margs\u001b[0m\u001b[0;34m,\u001b[0m \u001b[0;34m**\u001b[0m\u001b[0mkwargs\u001b[0m\u001b[0;34m)\u001b[0m\u001b[0;34m\u001b[0m\u001b[0;34m\u001b[0m\u001b[0m\n\u001b[0m\u001b[1;32m   1519\u001b[0m \u001b[0;34m\u001b[0m\u001b[0m\n\u001b[1;32m   1520\u001b[0m     \u001b[0;32mdef\u001b[0m \u001b[0m_call_impl\u001b[0m\u001b[0;34m(\u001b[0m\u001b[0mself\u001b[0m\u001b[0;34m,\u001b[0m \u001b[0;34m*\u001b[0m\u001b[0margs\u001b[0m\u001b[0;34m,\u001b[0m \u001b[0;34m**\u001b[0m\u001b[0mkwargs\u001b[0m\u001b[0;34m)\u001b[0m\u001b[0;34m:\u001b[0m\u001b[0;34m\u001b[0m\u001b[0;34m\u001b[0m\u001b[0m\n",
            "\u001b[0;32m/usr/local/lib/python3.10/dist-packages/torch/nn/modules/module.py\u001b[0m in \u001b[0;36m_call_impl\u001b[0;34m(self, *args, **kwargs)\u001b[0m\n\u001b[1;32m   1525\u001b[0m                 \u001b[0;32mor\u001b[0m \u001b[0m_global_backward_pre_hooks\u001b[0m \u001b[0;32mor\u001b[0m \u001b[0m_global_backward_hooks\u001b[0m\u001b[0;34m\u001b[0m\u001b[0;34m\u001b[0m\u001b[0m\n\u001b[1;32m   1526\u001b[0m                 or _global_forward_hooks or _global_forward_pre_hooks):\n\u001b[0;32m-> 1527\u001b[0;31m             \u001b[0;32mreturn\u001b[0m \u001b[0mforward_call\u001b[0m\u001b[0;34m(\u001b[0m\u001b[0;34m*\u001b[0m\u001b[0margs\u001b[0m\u001b[0;34m,\u001b[0m \u001b[0;34m**\u001b[0m\u001b[0mkwargs\u001b[0m\u001b[0;34m)\u001b[0m\u001b[0;34m\u001b[0m\u001b[0;34m\u001b[0m\u001b[0m\n\u001b[0m\u001b[1;32m   1528\u001b[0m \u001b[0;34m\u001b[0m\u001b[0m\n\u001b[1;32m   1529\u001b[0m         \u001b[0;32mtry\u001b[0m\u001b[0;34m:\u001b[0m\u001b[0;34m\u001b[0m\u001b[0;34m\u001b[0m\u001b[0m\n",
            "\u001b[0;32m/usr/local/lib/python3.10/dist-packages/torchvision/models/mobilenetv2.py\u001b[0m in \u001b[0;36mforward\u001b[0;34m(self, x)\u001b[0m\n\u001b[1;32m     60\u001b[0m     \u001b[0;32mdef\u001b[0m \u001b[0mforward\u001b[0m\u001b[0;34m(\u001b[0m\u001b[0mself\u001b[0m\u001b[0;34m,\u001b[0m \u001b[0mx\u001b[0m\u001b[0;34m:\u001b[0m \u001b[0mTensor\u001b[0m\u001b[0;34m)\u001b[0m \u001b[0;34m->\u001b[0m \u001b[0mTensor\u001b[0m\u001b[0;34m:\u001b[0m\u001b[0;34m\u001b[0m\u001b[0;34m\u001b[0m\u001b[0m\n\u001b[1;32m     61\u001b[0m         \u001b[0;32mif\u001b[0m \u001b[0mself\u001b[0m\u001b[0;34m.\u001b[0m\u001b[0muse_res_connect\u001b[0m\u001b[0;34m:\u001b[0m\u001b[0;34m\u001b[0m\u001b[0;34m\u001b[0m\u001b[0m\n\u001b[0;32m---> 62\u001b[0;31m             \u001b[0;32mreturn\u001b[0m \u001b[0mx\u001b[0m \u001b[0;34m+\u001b[0m \u001b[0mself\u001b[0m\u001b[0;34m.\u001b[0m\u001b[0mconv\u001b[0m\u001b[0;34m(\u001b[0m\u001b[0mx\u001b[0m\u001b[0;34m)\u001b[0m\u001b[0;34m\u001b[0m\u001b[0;34m\u001b[0m\u001b[0m\n\u001b[0m\u001b[1;32m     63\u001b[0m         \u001b[0;32melse\u001b[0m\u001b[0;34m:\u001b[0m\u001b[0;34m\u001b[0m\u001b[0;34m\u001b[0m\u001b[0m\n\u001b[1;32m     64\u001b[0m             \u001b[0;32mreturn\u001b[0m \u001b[0mself\u001b[0m\u001b[0;34m.\u001b[0m\u001b[0mconv\u001b[0m\u001b[0;34m(\u001b[0m\u001b[0mx\u001b[0m\u001b[0;34m)\u001b[0m\u001b[0;34m\u001b[0m\u001b[0;34m\u001b[0m\u001b[0m\n",
            "\u001b[0;32m/usr/local/lib/python3.10/dist-packages/torch/nn/modules/module.py\u001b[0m in \u001b[0;36m_wrapped_call_impl\u001b[0;34m(self, *args, **kwargs)\u001b[0m\n\u001b[1;32m   1516\u001b[0m             \u001b[0;32mreturn\u001b[0m \u001b[0mself\u001b[0m\u001b[0;34m.\u001b[0m\u001b[0m_compiled_call_impl\u001b[0m\u001b[0;34m(\u001b[0m\u001b[0;34m*\u001b[0m\u001b[0margs\u001b[0m\u001b[0;34m,\u001b[0m \u001b[0;34m**\u001b[0m\u001b[0mkwargs\u001b[0m\u001b[0;34m)\u001b[0m  \u001b[0;31m# type: ignore[misc]\u001b[0m\u001b[0;34m\u001b[0m\u001b[0;34m\u001b[0m\u001b[0m\n\u001b[1;32m   1517\u001b[0m         \u001b[0;32melse\u001b[0m\u001b[0;34m:\u001b[0m\u001b[0;34m\u001b[0m\u001b[0;34m\u001b[0m\u001b[0m\n\u001b[0;32m-> 1518\u001b[0;31m             \u001b[0;32mreturn\u001b[0m \u001b[0mself\u001b[0m\u001b[0;34m.\u001b[0m\u001b[0m_call_impl\u001b[0m\u001b[0;34m(\u001b[0m\u001b[0;34m*\u001b[0m\u001b[0margs\u001b[0m\u001b[0;34m,\u001b[0m \u001b[0;34m**\u001b[0m\u001b[0mkwargs\u001b[0m\u001b[0;34m)\u001b[0m\u001b[0;34m\u001b[0m\u001b[0;34m\u001b[0m\u001b[0m\n\u001b[0m\u001b[1;32m   1519\u001b[0m \u001b[0;34m\u001b[0m\u001b[0m\n\u001b[1;32m   1520\u001b[0m     \u001b[0;32mdef\u001b[0m \u001b[0m_call_impl\u001b[0m\u001b[0;34m(\u001b[0m\u001b[0mself\u001b[0m\u001b[0;34m,\u001b[0m \u001b[0;34m*\u001b[0m\u001b[0margs\u001b[0m\u001b[0;34m,\u001b[0m \u001b[0;34m**\u001b[0m\u001b[0mkwargs\u001b[0m\u001b[0;34m)\u001b[0m\u001b[0;34m:\u001b[0m\u001b[0;34m\u001b[0m\u001b[0;34m\u001b[0m\u001b[0m\n",
            "\u001b[0;32m/usr/local/lib/python3.10/dist-packages/torch/nn/modules/module.py\u001b[0m in \u001b[0;36m_call_impl\u001b[0;34m(self, *args, **kwargs)\u001b[0m\n\u001b[1;32m   1525\u001b[0m                 \u001b[0;32mor\u001b[0m \u001b[0m_global_backward_pre_hooks\u001b[0m \u001b[0;32mor\u001b[0m \u001b[0m_global_backward_hooks\u001b[0m\u001b[0;34m\u001b[0m\u001b[0;34m\u001b[0m\u001b[0m\n\u001b[1;32m   1526\u001b[0m                 or _global_forward_hooks or _global_forward_pre_hooks):\n\u001b[0;32m-> 1527\u001b[0;31m             \u001b[0;32mreturn\u001b[0m \u001b[0mforward_call\u001b[0m\u001b[0;34m(\u001b[0m\u001b[0;34m*\u001b[0m\u001b[0margs\u001b[0m\u001b[0;34m,\u001b[0m \u001b[0;34m**\u001b[0m\u001b[0mkwargs\u001b[0m\u001b[0;34m)\u001b[0m\u001b[0;34m\u001b[0m\u001b[0;34m\u001b[0m\u001b[0m\n\u001b[0m\u001b[1;32m   1528\u001b[0m \u001b[0;34m\u001b[0m\u001b[0m\n\u001b[1;32m   1529\u001b[0m         \u001b[0;32mtry\u001b[0m\u001b[0;34m:\u001b[0m\u001b[0;34m\u001b[0m\u001b[0;34m\u001b[0m\u001b[0m\n",
            "\u001b[0;32m/usr/local/lib/python3.10/dist-packages/torch/nn/modules/container.py\u001b[0m in \u001b[0;36mforward\u001b[0;34m(self, input)\u001b[0m\n\u001b[1;32m    213\u001b[0m     \u001b[0;32mdef\u001b[0m \u001b[0mforward\u001b[0m\u001b[0;34m(\u001b[0m\u001b[0mself\u001b[0m\u001b[0;34m,\u001b[0m \u001b[0minput\u001b[0m\u001b[0;34m)\u001b[0m\u001b[0;34m:\u001b[0m\u001b[0;34m\u001b[0m\u001b[0;34m\u001b[0m\u001b[0m\n\u001b[1;32m    214\u001b[0m         \u001b[0;32mfor\u001b[0m \u001b[0mmodule\u001b[0m \u001b[0;32min\u001b[0m \u001b[0mself\u001b[0m\u001b[0;34m:\u001b[0m\u001b[0;34m\u001b[0m\u001b[0;34m\u001b[0m\u001b[0m\n\u001b[0;32m--> 215\u001b[0;31m             \u001b[0minput\u001b[0m \u001b[0;34m=\u001b[0m \u001b[0mmodule\u001b[0m\u001b[0;34m(\u001b[0m\u001b[0minput\u001b[0m\u001b[0;34m)\u001b[0m\u001b[0;34m\u001b[0m\u001b[0;34m\u001b[0m\u001b[0m\n\u001b[0m\u001b[1;32m    216\u001b[0m         \u001b[0;32mreturn\u001b[0m \u001b[0minput\u001b[0m\u001b[0;34m\u001b[0m\u001b[0;34m\u001b[0m\u001b[0m\n\u001b[1;32m    217\u001b[0m \u001b[0;34m\u001b[0m\u001b[0m\n",
            "\u001b[0;32m/usr/local/lib/python3.10/dist-packages/torch/nn/modules/module.py\u001b[0m in \u001b[0;36m_wrapped_call_impl\u001b[0;34m(self, *args, **kwargs)\u001b[0m\n\u001b[1;32m   1516\u001b[0m             \u001b[0;32mreturn\u001b[0m \u001b[0mself\u001b[0m\u001b[0;34m.\u001b[0m\u001b[0m_compiled_call_impl\u001b[0m\u001b[0;34m(\u001b[0m\u001b[0;34m*\u001b[0m\u001b[0margs\u001b[0m\u001b[0;34m,\u001b[0m \u001b[0;34m**\u001b[0m\u001b[0mkwargs\u001b[0m\u001b[0;34m)\u001b[0m  \u001b[0;31m# type: ignore[misc]\u001b[0m\u001b[0;34m\u001b[0m\u001b[0;34m\u001b[0m\u001b[0m\n\u001b[1;32m   1517\u001b[0m         \u001b[0;32melse\u001b[0m\u001b[0;34m:\u001b[0m\u001b[0;34m\u001b[0m\u001b[0;34m\u001b[0m\u001b[0m\n\u001b[0;32m-> 1518\u001b[0;31m             \u001b[0;32mreturn\u001b[0m \u001b[0mself\u001b[0m\u001b[0;34m.\u001b[0m\u001b[0m_call_impl\u001b[0m\u001b[0;34m(\u001b[0m\u001b[0;34m*\u001b[0m\u001b[0margs\u001b[0m\u001b[0;34m,\u001b[0m \u001b[0;34m**\u001b[0m\u001b[0mkwargs\u001b[0m\u001b[0;34m)\u001b[0m\u001b[0;34m\u001b[0m\u001b[0;34m\u001b[0m\u001b[0m\n\u001b[0m\u001b[1;32m   1519\u001b[0m \u001b[0;34m\u001b[0m\u001b[0m\n\u001b[1;32m   1520\u001b[0m     \u001b[0;32mdef\u001b[0m \u001b[0m_call_impl\u001b[0m\u001b[0;34m(\u001b[0m\u001b[0mself\u001b[0m\u001b[0;34m,\u001b[0m \u001b[0;34m*\u001b[0m\u001b[0margs\u001b[0m\u001b[0;34m,\u001b[0m \u001b[0;34m**\u001b[0m\u001b[0mkwargs\u001b[0m\u001b[0;34m)\u001b[0m\u001b[0;34m:\u001b[0m\u001b[0;34m\u001b[0m\u001b[0;34m\u001b[0m\u001b[0m\n",
            "\u001b[0;32m/usr/local/lib/python3.10/dist-packages/torch/nn/modules/module.py\u001b[0m in \u001b[0;36m_call_impl\u001b[0;34m(self, *args, **kwargs)\u001b[0m\n\u001b[1;32m   1525\u001b[0m                 \u001b[0;32mor\u001b[0m \u001b[0m_global_backward_pre_hooks\u001b[0m \u001b[0;32mor\u001b[0m \u001b[0m_global_backward_hooks\u001b[0m\u001b[0;34m\u001b[0m\u001b[0;34m\u001b[0m\u001b[0m\n\u001b[1;32m   1526\u001b[0m                 or _global_forward_hooks or _global_forward_pre_hooks):\n\u001b[0;32m-> 1527\u001b[0;31m             \u001b[0;32mreturn\u001b[0m \u001b[0mforward_call\u001b[0m\u001b[0;34m(\u001b[0m\u001b[0;34m*\u001b[0m\u001b[0margs\u001b[0m\u001b[0;34m,\u001b[0m \u001b[0;34m**\u001b[0m\u001b[0mkwargs\u001b[0m\u001b[0;34m)\u001b[0m\u001b[0;34m\u001b[0m\u001b[0;34m\u001b[0m\u001b[0m\n\u001b[0m\u001b[1;32m   1528\u001b[0m \u001b[0;34m\u001b[0m\u001b[0m\n\u001b[1;32m   1529\u001b[0m         \u001b[0;32mtry\u001b[0m\u001b[0;34m:\u001b[0m\u001b[0;34m\u001b[0m\u001b[0;34m\u001b[0m\u001b[0m\n",
            "\u001b[0;32m/usr/local/lib/python3.10/dist-packages/torch/nn/modules/container.py\u001b[0m in \u001b[0;36mforward\u001b[0;34m(self, input)\u001b[0m\n\u001b[1;32m    213\u001b[0m     \u001b[0;32mdef\u001b[0m \u001b[0mforward\u001b[0m\u001b[0;34m(\u001b[0m\u001b[0mself\u001b[0m\u001b[0;34m,\u001b[0m \u001b[0minput\u001b[0m\u001b[0;34m)\u001b[0m\u001b[0;34m:\u001b[0m\u001b[0;34m\u001b[0m\u001b[0;34m\u001b[0m\u001b[0m\n\u001b[1;32m    214\u001b[0m         \u001b[0;32mfor\u001b[0m \u001b[0mmodule\u001b[0m \u001b[0;32min\u001b[0m \u001b[0mself\u001b[0m\u001b[0;34m:\u001b[0m\u001b[0;34m\u001b[0m\u001b[0;34m\u001b[0m\u001b[0m\n\u001b[0;32m--> 215\u001b[0;31m             \u001b[0minput\u001b[0m \u001b[0;34m=\u001b[0m \u001b[0mmodule\u001b[0m\u001b[0;34m(\u001b[0m\u001b[0minput\u001b[0m\u001b[0;34m)\u001b[0m\u001b[0;34m\u001b[0m\u001b[0;34m\u001b[0m\u001b[0m\n\u001b[0m\u001b[1;32m    216\u001b[0m         \u001b[0;32mreturn\u001b[0m \u001b[0minput\u001b[0m\u001b[0;34m\u001b[0m\u001b[0;34m\u001b[0m\u001b[0m\n\u001b[1;32m    217\u001b[0m \u001b[0;34m\u001b[0m\u001b[0m\n",
            "\u001b[0;32m/usr/local/lib/python3.10/dist-packages/torch/nn/modules/module.py\u001b[0m in \u001b[0;36m_wrapped_call_impl\u001b[0;34m(self, *args, **kwargs)\u001b[0m\n\u001b[1;32m   1516\u001b[0m             \u001b[0;32mreturn\u001b[0m \u001b[0mself\u001b[0m\u001b[0;34m.\u001b[0m\u001b[0m_compiled_call_impl\u001b[0m\u001b[0;34m(\u001b[0m\u001b[0;34m*\u001b[0m\u001b[0margs\u001b[0m\u001b[0;34m,\u001b[0m \u001b[0;34m**\u001b[0m\u001b[0mkwargs\u001b[0m\u001b[0;34m)\u001b[0m  \u001b[0;31m# type: ignore[misc]\u001b[0m\u001b[0;34m\u001b[0m\u001b[0;34m\u001b[0m\u001b[0m\n\u001b[1;32m   1517\u001b[0m         \u001b[0;32melse\u001b[0m\u001b[0;34m:\u001b[0m\u001b[0;34m\u001b[0m\u001b[0;34m\u001b[0m\u001b[0m\n\u001b[0;32m-> 1518\u001b[0;31m             \u001b[0;32mreturn\u001b[0m \u001b[0mself\u001b[0m\u001b[0;34m.\u001b[0m\u001b[0m_call_impl\u001b[0m\u001b[0;34m(\u001b[0m\u001b[0;34m*\u001b[0m\u001b[0margs\u001b[0m\u001b[0;34m,\u001b[0m \u001b[0;34m**\u001b[0m\u001b[0mkwargs\u001b[0m\u001b[0;34m)\u001b[0m\u001b[0;34m\u001b[0m\u001b[0;34m\u001b[0m\u001b[0m\n\u001b[0m\u001b[1;32m   1519\u001b[0m \u001b[0;34m\u001b[0m\u001b[0m\n\u001b[1;32m   1520\u001b[0m     \u001b[0;32mdef\u001b[0m \u001b[0m_call_impl\u001b[0m\u001b[0;34m(\u001b[0m\u001b[0mself\u001b[0m\u001b[0;34m,\u001b[0m \u001b[0;34m*\u001b[0m\u001b[0margs\u001b[0m\u001b[0;34m,\u001b[0m \u001b[0;34m**\u001b[0m\u001b[0mkwargs\u001b[0m\u001b[0;34m)\u001b[0m\u001b[0;34m:\u001b[0m\u001b[0;34m\u001b[0m\u001b[0;34m\u001b[0m\u001b[0m\n",
            "\u001b[0;32m/usr/local/lib/python3.10/dist-packages/torch/nn/modules/module.py\u001b[0m in \u001b[0;36m_call_impl\u001b[0;34m(self, *args, **kwargs)\u001b[0m\n\u001b[1;32m   1579\u001b[0m                         \u001b[0mhook_result\u001b[0m \u001b[0;34m=\u001b[0m \u001b[0mhook\u001b[0m\u001b[0;34m(\u001b[0m\u001b[0mself\u001b[0m\u001b[0;34m,\u001b[0m \u001b[0margs\u001b[0m\u001b[0;34m,\u001b[0m \u001b[0mkwargs\u001b[0m\u001b[0;34m,\u001b[0m \u001b[0mresult\u001b[0m\u001b[0;34m)\u001b[0m\u001b[0;34m\u001b[0m\u001b[0;34m\u001b[0m\u001b[0m\n\u001b[1;32m   1580\u001b[0m                     \u001b[0;32melse\u001b[0m\u001b[0;34m:\u001b[0m\u001b[0;34m\u001b[0m\u001b[0;34m\u001b[0m\u001b[0m\n\u001b[0;32m-> 1581\u001b[0;31m                         \u001b[0mhook_result\u001b[0m \u001b[0;34m=\u001b[0m \u001b[0mhook\u001b[0m\u001b[0;34m(\u001b[0m\u001b[0mself\u001b[0m\u001b[0;34m,\u001b[0m \u001b[0margs\u001b[0m\u001b[0;34m,\u001b[0m \u001b[0mresult\u001b[0m\u001b[0;34m)\u001b[0m\u001b[0;34m\u001b[0m\u001b[0;34m\u001b[0m\u001b[0m\n\u001b[0m\u001b[1;32m   1582\u001b[0m \u001b[0;34m\u001b[0m\u001b[0m\n\u001b[1;32m   1583\u001b[0m                     \u001b[0;32mif\u001b[0m \u001b[0mhook_result\u001b[0m \u001b[0;32mis\u001b[0m \u001b[0;32mnot\u001b[0m \u001b[0;32mNone\u001b[0m\u001b[0;34m:\u001b[0m\u001b[0;34m\u001b[0m\u001b[0;34m\u001b[0m\u001b[0m\n",
            "\u001b[0;32m/usr/local/lib/python3.10/dist-packages/pytorchfi/core.py\u001b[0m in \u001b[0;36m_set_value\u001b[0;34m(self, module, input_val, output)\u001b[0m\n\u001b[1;32m    400\u001b[0m                     \u001b[0mself\u001b[0m\u001b[0;34m.\u001b[0m\u001b[0mcorrupt_dim2\u001b[0m\u001b[0;34m[\u001b[0m\u001b[0mi\u001b[0m\u001b[0;34m]\u001b[0m\u001b[0;34m,\u001b[0m\u001b[0;34m\u001b[0m\u001b[0;34m\u001b[0m\u001b[0m\n\u001b[1;32m    401\u001b[0m                     \u001b[0mself\u001b[0m\u001b[0;34m.\u001b[0m\u001b[0mcorrupt_dim3\u001b[0m\u001b[0;34m[\u001b[0m\u001b[0mi\u001b[0m\u001b[0;34m]\u001b[0m\u001b[0;34m,\u001b[0m\u001b[0;34m\u001b[0m\u001b[0;34m\u001b[0m\u001b[0m\n\u001b[0;32m--> 402\u001b[0;31m                     output[self.corrupt_batch[i]][self.corrupt_dim1[i]][\n\u001b[0m\u001b[1;32m    403\u001b[0m                         \u001b[0mself\u001b[0m\u001b[0;34m.\u001b[0m\u001b[0mcorrupt_dim2\u001b[0m\u001b[0;34m[\u001b[0m\u001b[0mi\u001b[0m\u001b[0;34m]\u001b[0m\u001b[0;34m\u001b[0m\u001b[0;34m\u001b[0m\u001b[0m\n\u001b[1;32m    404\u001b[0m                     ][self.corrupt_dim3[i]],\n",
            "\u001b[0;31mIndexError\u001b[0m: index 6 is out of bounds for dimension 0 with size 2"
          ]
        }
      ]
    },
    {
      "cell_type": "code",
      "source": [
        "#zeros\n",
        "ensemble_mobilenet = [mobilenet_1,mobilenet_2,mobilenet_3]\n",
        "ensemble_mobilenet_corrupt = [corrupt_mobilenet_1,corrupt_mobilenet_2,corrupt_mobilenet_3]\n",
        "accuracy = evaluate_ensemble_accuracy(ensemble_mobilenet, test_loader, device)\n",
        "print(f'Ensemble Accuracy: {accuracy}%')\n",
        "\n",
        "accuracy_inject = evaluate_ensemble_accuracy(ensemble_mobilenet_corrupt, test_loader, device)\n",
        "print(f'Ensemble Accuracy: {accuracy_inject}%')\n",
        "\n",
        "R = 1 - (accuracy-accuracy_inject)/accuracy\n",
        "print(R)\n",
        "\n"
      ],
      "metadata": {
        "colab": {
          "base_uri": "https://localhost:8080/"
        },
        "id": "Vjm4PX9738gH",
        "outputId": "1ee73937-a4eb-4b2e-beba-ab1a9e3fb1a7"
      },
      "execution_count": null,
      "outputs": [
        {
          "output_type": "stream",
          "name": "stdout",
          "text": [
            "Ensemble Accuracy: 82.41%\n",
            "Ensemble Accuracy: 82.3%\n",
            "0.9986652105327023\n"
          ]
        }
      ]
    },
    {
      "cell_type": "markdown",
      "source": [
        "# Resnet50 + Resnet18 + MobileNet"
      ],
      "metadata": {
        "id": "dbkM15604u3A"
      }
    },
    {
      "cell_type": "code",
      "source": [
        "ensemble_diff = [resnet50_1,resnet18_1,mobilenet_1]\n",
        "ensemble_diff_corrupt = [corrupt_resnet50_1,corrupt_resnet18_1,corrupt_mobilenet_1]\n",
        "accuracy = evaluate_ensemble_accuracy(ensemble_diff, test_loader, device)\n",
        "print(f'Ensemble Accuracy: {accuracy}%')\n",
        "\n",
        "accuracy_inject = evaluate_ensemble_accuracy(ensemble_diff_corrupt, test_loader, device)\n",
        "print(f'Ensemble Accuracy: {accuracy_inject}%')\n",
        "\n",
        "R = 1 - (accuracy-accuracy_inject)/accuracy\n",
        "print(R)\n"
      ],
      "metadata": {
        "colab": {
          "base_uri": "https://localhost:8080/"
        },
        "id": "O-SlHvdV4p82",
        "outputId": "1b0d14bc-1a7a-4eef-84db-1584c3f2f938"
      },
      "execution_count": null,
      "outputs": [
        {
          "output_type": "stream",
          "name": "stdout",
          "text": [
            "Ensemble Accuracy: 87.78%\n",
            "Ensemble Accuracy: 83.51%\n",
            "0.9513556618819777\n"
          ]
        }
      ]
    },
    {
      "cell_type": "code",
      "source": [
        "#zeros\n",
        "\n",
        "ensemble_diff = [resnet50_1,resnet18_1,mobilenet_1]\n",
        "ensemble_diff_corrupt = [corrupt_resnet50_1,corrupt_resnet18_1,corrupt_mobilenet_1]\n",
        "accuracy = evaluate_ensemble_accuracy(ensemble_diff, test_loader, device)\n",
        "print(f'Ensemble Accuracy: {accuracy}%')\n",
        "\n",
        "accuracy_inject = evaluate_ensemble_accuracy(ensemble_diff_corrupt, test_loader, device)\n",
        "print(f'Ensemble Accuracy: {accuracy_inject}%')\n",
        "\n",
        "R = 1 - (accuracy-accuracy_inject)/accuracy\n",
        "print(R)\n"
      ],
      "metadata": {
        "colab": {
          "base_uri": "https://localhost:8080/"
        },
        "id": "BSUb-ddjSPVo",
        "outputId": "56bcea63-b124-4f0c-a62e-229a0bcc2483"
      },
      "execution_count": null,
      "outputs": [
        {
          "output_type": "stream",
          "name": "stdout",
          "text": [
            "Ensemble Accuracy: 85.99%\n",
            "Ensemble Accuracy: 85.94%\n",
            "0.9994185370391906\n"
          ]
        }
      ]
    },
    {
      "cell_type": "code",
      "source": [
        "ensemble_diff = [resnet50_1,resnet18_1,mobilenet_1]\n",
        "ensemble_diff_corrupt = [corrupt_resnet50_1,corrupt_resnet18_1,corrupt_mobilenet_1]\n",
        "accuracy = evaluate_ensemble_accuracy(ensemble_diff, test_loader, device)\n",
        "print(f'Ensemble Accuracy: {accuracy}%')\n",
        "\n",
        "accuracy_inject = evaluate_ensemble_accuracy(ensemble_diff_corrupt, test_loader, device)\n",
        "print(f'Ensemble Accuracy: {accuracy_inject}%')\n",
        "\n",
        "R = 1 - (accuracy-accuracy_inject)/accuracy\n",
        "print(R)\n"
      ],
      "metadata": {
        "colab": {
          "base_uri": "https://localhost:8080/"
        },
        "id": "YYhPDKrq5ahh",
        "outputId": "e68bc58f-795b-42db-9020-30768c2ece95"
      },
      "execution_count": null,
      "outputs": [
        {
          "output_type": "stream",
          "name": "stdout",
          "text": [
            "Ensemble Accuracy: 87.33%\n",
            "Ensemble Accuracy: 87.64%\n",
            "1.0035497538073972\n"
          ]
        }
      ]
    },
    {
      "cell_type": "code",
      "source": [
        "predictions_diff_1 = get_predictions(corrupt_mobilenet_1, test_loader, device)\n",
        "predictions_diff_2 = get_predictions(corrupt_resnet18_1, test_loader, device)\n",
        "predictions_diff_3 = get_predictions(corrupt_mobilenet_1, test_loader, device)\n",
        "\n",
        "predictions4 = [predictions_diff_1, predictions_diff_2, predictions_diff_3]\n",
        "final_predictions4 = vote(predictions4)\n",
        "print(final_predictions4)"
      ],
      "metadata": {
        "colab": {
          "base_uri": "https://localhost:8080/"
        },
        "id": "TFOMQeSu6JKQ",
        "outputId": "275cba26-d885-4331-cc51-d0aa4957c990"
      },
      "execution_count": null,
      "outputs": [
        {
          "output_type": "stream",
          "name": "stdout",
          "text": [
            "3\n"
          ]
        }
      ]
    },
    {
      "cell_type": "code",
      "source": [
        "ensemble_diff2 = [resnet50_2,resnet18_2,mobilenet_2]\n",
        "ensemble_diff_corrupt2 = [corrupt_resnet50_2,corrupt_resnet18_2,corrupt_mobilenet_2]\n",
        "accuracy = evaluate_ensemble_accuracy(ensemble_diff2, test_loader, device)\n",
        "print(f'Ensemble Accuracy: {accuracy}%')\n",
        "\n",
        "accuracy_inject = evaluate_ensemble_accuracy(ensemble_diff_corrupt2, test_loader, device)\n",
        "print(f'Ensemble Accuracy: {accuracy_inject}%')\n",
        "\n",
        "R = 1 - (accuracy-accuracy_inject)/accuracy\n",
        "print(R)\n"
      ],
      "metadata": {
        "colab": {
          "base_uri": "https://localhost:8080/"
        },
        "id": "NMigiQ88Vb8h",
        "outputId": "ead7e90d-f028-486e-f13e-7c41c59de9de"
      },
      "execution_count": null,
      "outputs": [
        {
          "output_type": "stream",
          "name": "stdout",
          "text": [
            "Ensemble Accuracy: 87.89%\n",
            "Ensemble Accuracy: 84.27%\n",
            "0.9588121515530776\n"
          ]
        }
      ]
    },
    {
      "cell_type": "code",
      "source": [
        "ensemble_diff3 = [resnet50_3,resnet18_3,mobilenet_3]\n",
        "ensemble_diff_corrupt3 = [corrupt_resnet50_3,corrupt_resnet18_3,corrupt_mobilenet_3]\n",
        "accuracy = evaluate_ensemble_accuracy(ensemble_diff3, test_loader, device)\n",
        "print(f'Ensemble Accuracy: {accuracy}%')\n",
        "\n",
        "accuracy_inject = evaluate_ensemble_accuracy(ensemble_diff_corrupt3, test_loader, device)\n",
        "print(f'Ensemble Accuracy: {accuracy_inject}%')\n",
        "\n",
        "R = 1 - (accuracy-accuracy_inject)/accuracy\n",
        "print(R)\n"
      ],
      "metadata": {
        "colab": {
          "base_uri": "https://localhost:8080/"
        },
        "id": "JygdOC_dVlg4",
        "outputId": "f0223c29-6d32-4da1-f191-82bf45c5b16a"
      },
      "execution_count": null,
      "outputs": [
        {
          "output_type": "stream",
          "name": "stdout",
          "text": [
            "Ensemble Accuracy: 86.59%\n",
            "Ensemble Accuracy: 54.67%\n",
            "0.6313662085691188\n"
          ]
        }
      ]
    },
    {
      "cell_type": "code",
      "source": [
        "ensemble_diff3 = [resnet50_3,resnet18_3,mobilenet_3,mobilenet_1]\n",
        "ensemble_diff_corrupt3 = [corrupt_resnet50_3,corrupt_resnet18_3,corrupt_mobilenet_3,corrupt_mobilenet_1]\n",
        "accuracy = evaluate_ensemble_accuracy(ensemble_diff3, test_loader, device)\n",
        "print(f'Ensemble Accuracy: {accuracy}%')\n",
        "\n",
        "accuracy_inject = evaluate_ensemble_accuracy(ensemble_diff_corrupt3, test_loader, device)\n",
        "print(f'Ensemble Accuracy: {accuracy_inject}%')\n",
        "\n",
        "R = 1 - (accuracy-accuracy_inject)/accuracy\n",
        "print(R)\n"
      ],
      "metadata": {
        "colab": {
          "base_uri": "https://localhost:8080/"
        },
        "id": "94w8lHPBVyil",
        "outputId": "98bf48d9-22b7-4c1c-cde7-0b2201bb7842"
      },
      "execution_count": null,
      "outputs": [
        {
          "output_type": "stream",
          "name": "stdout",
          "text": [
            "Ensemble Accuracy: 86.52%\n",
            "Ensemble Accuracy: 65.49%\n",
            "0.7569348127600555\n"
          ]
        }
      ]
    },
    {
      "cell_type": "code",
      "source": [
        "ensemble_diff3 = [resnet50_1,resnet50_2,resnet50_3,resnet18_3,mobilenet_2,mobilenet_1,resnet18_2]\n",
        "ensemble_diff_corrupt3 = [corrupt_resnet50_1,corrupt_resnet50_2,corrupt_resnet50_3,corrupt_resnet18_3,corrupt_mobilenet_2,corrupt_mobilenet_1,corrupt_resnet18_2]\n",
        "accuracy = evaluate_ensemble_accuracy(ensemble_diff3, test_loader, device)\n",
        "print(f'Ensemble Accuracy: {accuracy}%')\n",
        "\n",
        "accuracy_inject = evaluate_ensemble_accuracy(ensemble_diff_corrupt3, test_loader, device)\n",
        "print(f'Ensemble Accuracy: {accuracy_inject}%')\n",
        "\n",
        "R = 1 - (accuracy-accuracy_inject)/accuracy\n",
        "print(R)\n"
      ],
      "metadata": {
        "colab": {
          "base_uri": "https://localhost:8080/"
        },
        "id": "cBEhFibBV7g1",
        "outputId": "49a126ad-b9ad-4f3b-fba1-111295bc3d44"
      },
      "execution_count": null,
      "outputs": [
        {
          "output_type": "stream",
          "name": "stdout",
          "text": [
            "Ensemble Accuracy: 77.92%\n",
            "Ensemble Accuracy: 44.85%\n",
            "0.5755903490759753\n"
          ]
        }
      ]
    },
    {
      "cell_type": "code",
      "source": [
        "import matplotlib.pyplot as plt\n",
        "import torchvision\n",
        "import torchvision.transforms as transforms\n",
        "import torch\n",
        "\n",
        "# Функція для відображення зображення\n",
        "def imshow(img):\n",
        "    img = img / 2 + 0.5     # денормалізація\n",
        "    npimg = img.numpy()\n",
        "    plt.imshow(np.transpose(npimg, (1, 2, 0)))\n",
        "    plt.show()\n",
        "\n",
        "# Передобробка та завантаження даних CIFAR10\n",
        "transform = transforms.Compose([\n",
        "    transforms.RandomHorizontalFlip(),\n",
        "    transforms.ToTensor(),\n",
        "    transforms.Normalize((0.5, 0.5, 0.5), (0.5, 0.5, 0.5))\n",
        "])\n",
        "\n",
        "test_set = torchvision.datasets.CIFAR10(root='./data', train=False, download=True, transform=transform)\n",
        "test_loader = torch.utils.data.DataLoader(test_set, batch_size=128, shuffle=False)\n",
        "\n",
        "# Отримання декількох зображень\n",
        "dataiter = iter(test_loader)\n",
        "images, _ = next(dataiter)\n",
        "\n",
        "# Показ першого зображення\n",
        "imshow(images[0])\n"
      ],
      "metadata": {
        "colab": {
          "base_uri": "https://localhost:8080/",
          "height": 447
        },
        "id": "Qzyqkfgq0p9e",
        "outputId": "accaedf3-69dd-431c-d7da-a32c4fe5d92d"
      },
      "execution_count": null,
      "outputs": [
        {
          "output_type": "stream",
          "name": "stdout",
          "text": [
            "Files already downloaded and verified\n"
          ]
        },
        {
          "output_type": "display_data",
          "data": {
            "text/plain": [
              "<Figure size 640x480 with 1 Axes>"
            ],
            "image/png": "[encoded data removed]"
          },
          "metadata": {}
        }
      ]
    }
  ]
}